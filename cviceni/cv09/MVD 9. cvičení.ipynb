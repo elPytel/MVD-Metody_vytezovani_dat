{
 "cells": [
  {
   "cell_type": "markdown",
   "metadata": {},
   "source": [
    "# MVD 9. cvičení\n",
    "\n",
    "Dnešní cvičení nebude až tak obtížné. Cílem je seznámit se s HuggingFace a vyzkoušet si základní práci s BERT modelem.\n",
    "\n",
    "## 1. část - Seznámení s HuggingFace a modelem BERT\n",
    "\n",
    "Nainstalujte si Python knihovnu `transformers` a podívejte se na předtrénovaný [BERT model](https://huggingface.co/bert-base-uncased). Vyzkoušejte si unmasker s různými vstupy.\n",
    "\n",
    "<br>\n",
    "Pozn.: Použití BERT modelu vyžaduje zároveň PyTorch - postačí i cpu verze."
   ]
  },
  {
   "cell_type": "code",
   "execution_count": null,
   "metadata": {},
   "outputs": [],
   "source": [
    "import sys\n",
    "!{sys.executable} -m pip install torch\n",
    "!{sys.executable} -m pip install transformers"
   ]
  },
  {
   "cell_type": "code",
   "execution_count": 68,
   "metadata": {},
   "outputs": [],
   "source": [
    "import torch\n",
    "from transformers import pipeline\n",
    "import plotly.express as px\n",
    "from sklearn.manifold import TSNE"
   ]
  },
  {
   "cell_type": "code",
   "execution_count": 15,
   "metadata": {},
   "outputs": [],
   "source": [
    "model_name = 'bert-base-uncased'\n",
    "device = torch.device('cuda' if torch.cuda.is_available() else 'cpu')"
   ]
  },
  {
   "cell_type": "code",
   "execution_count": 16,
   "metadata": {},
   "outputs": [
    {
     "name": "stderr",
     "output_type": "stream",
     "text": [
      "Some weights of the model checkpoint at bert-base-uncased were not used when initializing BertForMaskedLM: ['cls.seq_relationship.weight', 'cls.seq_relationship.bias']\n",
      "- This IS expected if you are initializing BertForMaskedLM from the checkpoint of a model trained on another task or with another architecture (e.g. initializing a BertForSequenceClassification model from a BertForPreTraining model).\n",
      "- This IS NOT expected if you are initializing BertForMaskedLM from the checkpoint of a model that you expect to be exactly identical (initializing a BertForSequenceClassification model from a BertForSequenceClassification model).\n"
     ]
    },
    {
     "name": "stdout",
     "output_type": "stream",
     "text": [
      "BertForMaskedLM(\n",
      "  (bert): BertModel(\n",
      "    (embeddings): BertEmbeddings(\n",
      "      (word_embeddings): Embedding(30522, 768, padding_idx=0)\n",
      "      (position_embeddings): Embedding(512, 768)\n",
      "      (token_type_embeddings): Embedding(2, 768)\n",
      "      (LayerNorm): LayerNorm((768,), eps=1e-12, elementwise_affine=True)\n",
      "      (dropout): Dropout(p=0.1, inplace=False)\n",
      "    )\n",
      "    (encoder): BertEncoder(\n",
      "      (layer): ModuleList(\n",
      "        (0): BertLayer(\n",
      "          (attention): BertAttention(\n",
      "            (self): BertSelfAttention(\n",
      "              (query): Linear(in_features=768, out_features=768, bias=True)\n",
      "              (key): Linear(in_features=768, out_features=768, bias=True)\n",
      "              (value): Linear(in_features=768, out_features=768, bias=True)\n",
      "              (dropout): Dropout(p=0.1, inplace=False)\n",
      "            )\n",
      "            (output): BertSelfOutput(\n",
      "              (dense): Linear(in_features=768, out_features=768, bias=True)\n",
      "              (LayerNorm): LayerNorm((768,), eps=1e-12, elementwise_affine=True)\n",
      "              (dropout): Dropout(p=0.1, inplace=False)\n",
      "            )\n",
      "          )\n",
      "          (intermediate): BertIntermediate(\n",
      "            (dense): Linear(in_features=768, out_features=3072, bias=True)\n",
      "            (intermediate_act_fn): GELUActivation()\n",
      "          )\n",
      "          (output): BertOutput(\n",
      "            (dense): Linear(in_features=3072, out_features=768, bias=True)\n",
      "            (LayerNorm): LayerNorm((768,), eps=1e-12, elementwise_affine=True)\n",
      "            (dropout): Dropout(p=0.1, inplace=False)\n",
      "          )\n",
      "        )\n",
      "        (1): BertLayer(\n",
      "          (attention): BertAttention(\n",
      "            (self): BertSelfAttention(\n",
      "              (query): Linear(in_features=768, out_features=768, bias=True)\n",
      "              (key): Linear(in_features=768, out_features=768, bias=True)\n",
      "              (value): Linear(in_features=768, out_features=768, bias=True)\n",
      "              (dropout): Dropout(p=0.1, inplace=False)\n",
      "            )\n",
      "            (output): BertSelfOutput(\n",
      "              (dense): Linear(in_features=768, out_features=768, bias=True)\n",
      "              (LayerNorm): LayerNorm((768,), eps=1e-12, elementwise_affine=True)\n",
      "              (dropout): Dropout(p=0.1, inplace=False)\n",
      "            )\n",
      "          )\n",
      "          (intermediate): BertIntermediate(\n",
      "            (dense): Linear(in_features=768, out_features=3072, bias=True)\n",
      "            (intermediate_act_fn): GELUActivation()\n",
      "          )\n",
      "          (output): BertOutput(\n",
      "            (dense): Linear(in_features=3072, out_features=768, bias=True)\n",
      "            (LayerNorm): LayerNorm((768,), eps=1e-12, elementwise_affine=True)\n",
      "            (dropout): Dropout(p=0.1, inplace=False)\n",
      "          )\n",
      "        )\n",
      "        (2): BertLayer(\n",
      "          (attention): BertAttention(\n",
      "            (self): BertSelfAttention(\n",
      "              (query): Linear(in_features=768, out_features=768, bias=True)\n",
      "              (key): Linear(in_features=768, out_features=768, bias=True)\n",
      "              (value): Linear(in_features=768, out_features=768, bias=True)\n",
      "              (dropout): Dropout(p=0.1, inplace=False)\n",
      "            )\n",
      "            (output): BertSelfOutput(\n",
      "              (dense): Linear(in_features=768, out_features=768, bias=True)\n",
      "              (LayerNorm): LayerNorm((768,), eps=1e-12, elementwise_affine=True)\n",
      "              (dropout): Dropout(p=0.1, inplace=False)\n",
      "            )\n",
      "          )\n",
      "          (intermediate): BertIntermediate(\n",
      "            (dense): Linear(in_features=768, out_features=3072, bias=True)\n",
      "            (intermediate_act_fn): GELUActivation()\n",
      "          )\n",
      "          (output): BertOutput(\n",
      "            (dense): Linear(in_features=3072, out_features=768, bias=True)\n",
      "            (LayerNorm): LayerNorm((768,), eps=1e-12, elementwise_affine=True)\n",
      "            (dropout): Dropout(p=0.1, inplace=False)\n",
      "          )\n",
      "        )\n",
      "        (3): BertLayer(\n",
      "          (attention): BertAttention(\n",
      "            (self): BertSelfAttention(\n",
      "              (query): Linear(in_features=768, out_features=768, bias=True)\n",
      "              (key): Linear(in_features=768, out_features=768, bias=True)\n",
      "              (value): Linear(in_features=768, out_features=768, bias=True)\n",
      "              (dropout): Dropout(p=0.1, inplace=False)\n",
      "            )\n",
      "            (output): BertSelfOutput(\n",
      "              (dense): Linear(in_features=768, out_features=768, bias=True)\n",
      "              (LayerNorm): LayerNorm((768,), eps=1e-12, elementwise_affine=True)\n",
      "              (dropout): Dropout(p=0.1, inplace=False)\n",
      "            )\n",
      "          )\n",
      "          (intermediate): BertIntermediate(\n",
      "            (dense): Linear(in_features=768, out_features=3072, bias=True)\n",
      "            (intermediate_act_fn): GELUActivation()\n",
      "          )\n",
      "          (output): BertOutput(\n",
      "            (dense): Linear(in_features=3072, out_features=768, bias=True)\n",
      "            (LayerNorm): LayerNorm((768,), eps=1e-12, elementwise_affine=True)\n",
      "            (dropout): Dropout(p=0.1, inplace=False)\n",
      "          )\n",
      "        )\n",
      "        (4): BertLayer(\n",
      "          (attention): BertAttention(\n",
      "            (self): BertSelfAttention(\n",
      "              (query): Linear(in_features=768, out_features=768, bias=True)\n",
      "              (key): Linear(in_features=768, out_features=768, bias=True)\n",
      "              (value): Linear(in_features=768, out_features=768, bias=True)\n",
      "              (dropout): Dropout(p=0.1, inplace=False)\n",
      "            )\n",
      "            (output): BertSelfOutput(\n",
      "              (dense): Linear(in_features=768, out_features=768, bias=True)\n",
      "              (LayerNorm): LayerNorm((768,), eps=1e-12, elementwise_affine=True)\n",
      "              (dropout): Dropout(p=0.1, inplace=False)\n",
      "            )\n",
      "          )\n",
      "          (intermediate): BertIntermediate(\n",
      "            (dense): Linear(in_features=768, out_features=3072, bias=True)\n",
      "            (intermediate_act_fn): GELUActivation()\n",
      "          )\n",
      "          (output): BertOutput(\n",
      "            (dense): Linear(in_features=3072, out_features=768, bias=True)\n",
      "            (LayerNorm): LayerNorm((768,), eps=1e-12, elementwise_affine=True)\n",
      "            (dropout): Dropout(p=0.1, inplace=False)\n",
      "          )\n",
      "        )\n",
      "        (5): BertLayer(\n",
      "          (attention): BertAttention(\n",
      "            (self): BertSelfAttention(\n",
      "              (query): Linear(in_features=768, out_features=768, bias=True)\n",
      "              (key): Linear(in_features=768, out_features=768, bias=True)\n",
      "              (value): Linear(in_features=768, out_features=768, bias=True)\n",
      "              (dropout): Dropout(p=0.1, inplace=False)\n",
      "            )\n",
      "            (output): BertSelfOutput(\n",
      "              (dense): Linear(in_features=768, out_features=768, bias=True)\n",
      "              (LayerNorm): LayerNorm((768,), eps=1e-12, elementwise_affine=True)\n",
      "              (dropout): Dropout(p=0.1, inplace=False)\n",
      "            )\n",
      "          )\n",
      "          (intermediate): BertIntermediate(\n",
      "            (dense): Linear(in_features=768, out_features=3072, bias=True)\n",
      "            (intermediate_act_fn): GELUActivation()\n",
      "          )\n",
      "          (output): BertOutput(\n",
      "            (dense): Linear(in_features=3072, out_features=768, bias=True)\n",
      "            (LayerNorm): LayerNorm((768,), eps=1e-12, elementwise_affine=True)\n",
      "            (dropout): Dropout(p=0.1, inplace=False)\n",
      "          )\n",
      "        )\n",
      "        (6): BertLayer(\n",
      "          (attention): BertAttention(\n",
      "            (self): BertSelfAttention(\n",
      "              (query): Linear(in_features=768, out_features=768, bias=True)\n",
      "              (key): Linear(in_features=768, out_features=768, bias=True)\n",
      "              (value): Linear(in_features=768, out_features=768, bias=True)\n",
      "              (dropout): Dropout(p=0.1, inplace=False)\n",
      "            )\n",
      "            (output): BertSelfOutput(\n",
      "              (dense): Linear(in_features=768, out_features=768, bias=True)\n",
      "              (LayerNorm): LayerNorm((768,), eps=1e-12, elementwise_affine=True)\n",
      "              (dropout): Dropout(p=0.1, inplace=False)\n",
      "            )\n",
      "          )\n",
      "          (intermediate): BertIntermediate(\n",
      "            (dense): Linear(in_features=768, out_features=3072, bias=True)\n",
      "            (intermediate_act_fn): GELUActivation()\n",
      "          )\n",
      "          (output): BertOutput(\n",
      "            (dense): Linear(in_features=3072, out_features=768, bias=True)\n",
      "            (LayerNorm): LayerNorm((768,), eps=1e-12, elementwise_affine=True)\n",
      "            (dropout): Dropout(p=0.1, inplace=False)\n",
      "          )\n",
      "        )\n",
      "        (7): BertLayer(\n",
      "          (attention): BertAttention(\n",
      "            (self): BertSelfAttention(\n",
      "              (query): Linear(in_features=768, out_features=768, bias=True)\n",
      "              (key): Linear(in_features=768, out_features=768, bias=True)\n",
      "              (value): Linear(in_features=768, out_features=768, bias=True)\n",
      "              (dropout): Dropout(p=0.1, inplace=False)\n",
      "            )\n",
      "            (output): BertSelfOutput(\n",
      "              (dense): Linear(in_features=768, out_features=768, bias=True)\n",
      "              (LayerNorm): LayerNorm((768,), eps=1e-12, elementwise_affine=True)\n",
      "              (dropout): Dropout(p=0.1, inplace=False)\n",
      "            )\n",
      "          )\n",
      "          (intermediate): BertIntermediate(\n",
      "            (dense): Linear(in_features=768, out_features=3072, bias=True)\n",
      "            (intermediate_act_fn): GELUActivation()\n",
      "          )\n",
      "          (output): BertOutput(\n",
      "            (dense): Linear(in_features=3072, out_features=768, bias=True)\n",
      "            (LayerNorm): LayerNorm((768,), eps=1e-12, elementwise_affine=True)\n",
      "            (dropout): Dropout(p=0.1, inplace=False)\n",
      "          )\n",
      "        )\n",
      "        (8): BertLayer(\n",
      "          (attention): BertAttention(\n",
      "            (self): BertSelfAttention(\n",
      "              (query): Linear(in_features=768, out_features=768, bias=True)\n",
      "              (key): Linear(in_features=768, out_features=768, bias=True)\n",
      "              (value): Linear(in_features=768, out_features=768, bias=True)\n",
      "              (dropout): Dropout(p=0.1, inplace=False)\n",
      "            )\n",
      "            (output): BertSelfOutput(\n",
      "              (dense): Linear(in_features=768, out_features=768, bias=True)\n",
      "              (LayerNorm): LayerNorm((768,), eps=1e-12, elementwise_affine=True)\n",
      "              (dropout): Dropout(p=0.1, inplace=False)\n",
      "            )\n",
      "          )\n",
      "          (intermediate): BertIntermediate(\n",
      "            (dense): Linear(in_features=768, out_features=3072, bias=True)\n",
      "            (intermediate_act_fn): GELUActivation()\n",
      "          )\n",
      "          (output): BertOutput(\n",
      "            (dense): Linear(in_features=3072, out_features=768, bias=True)\n",
      "            (LayerNorm): LayerNorm((768,), eps=1e-12, elementwise_affine=True)\n",
      "            (dropout): Dropout(p=0.1, inplace=False)\n",
      "          )\n",
      "        )\n",
      "        (9): BertLayer(\n",
      "          (attention): BertAttention(\n",
      "            (self): BertSelfAttention(\n",
      "              (query): Linear(in_features=768, out_features=768, bias=True)\n",
      "              (key): Linear(in_features=768, out_features=768, bias=True)\n",
      "              (value): Linear(in_features=768, out_features=768, bias=True)\n",
      "              (dropout): Dropout(p=0.1, inplace=False)\n",
      "            )\n",
      "            (output): BertSelfOutput(\n",
      "              (dense): Linear(in_features=768, out_features=768, bias=True)\n",
      "              (LayerNorm): LayerNorm((768,), eps=1e-12, elementwise_affine=True)\n",
      "              (dropout): Dropout(p=0.1, inplace=False)\n",
      "            )\n",
      "          )\n",
      "          (intermediate): BertIntermediate(\n",
      "            (dense): Linear(in_features=768, out_features=3072, bias=True)\n",
      "            (intermediate_act_fn): GELUActivation()\n",
      "          )\n",
      "          (output): BertOutput(\n",
      "            (dense): Linear(in_features=3072, out_features=768, bias=True)\n",
      "            (LayerNorm): LayerNorm((768,), eps=1e-12, elementwise_affine=True)\n",
      "            (dropout): Dropout(p=0.1, inplace=False)\n",
      "          )\n",
      "        )\n",
      "        (10): BertLayer(\n",
      "          (attention): BertAttention(\n",
      "            (self): BertSelfAttention(\n",
      "              (query): Linear(in_features=768, out_features=768, bias=True)\n",
      "              (key): Linear(in_features=768, out_features=768, bias=True)\n",
      "              (value): Linear(in_features=768, out_features=768, bias=True)\n",
      "              (dropout): Dropout(p=0.1, inplace=False)\n",
      "            )\n",
      "            (output): BertSelfOutput(\n",
      "              (dense): Linear(in_features=768, out_features=768, bias=True)\n",
      "              (LayerNorm): LayerNorm((768,), eps=1e-12, elementwise_affine=True)\n",
      "              (dropout): Dropout(p=0.1, inplace=False)\n",
      "            )\n",
      "          )\n",
      "          (intermediate): BertIntermediate(\n",
      "            (dense): Linear(in_features=768, out_features=3072, bias=True)\n",
      "            (intermediate_act_fn): GELUActivation()\n",
      "          )\n",
      "          (output): BertOutput(\n",
      "            (dense): Linear(in_features=3072, out_features=768, bias=True)\n",
      "            (LayerNorm): LayerNorm((768,), eps=1e-12, elementwise_affine=True)\n",
      "            (dropout): Dropout(p=0.1, inplace=False)\n",
      "          )\n",
      "        )\n",
      "        (11): BertLayer(\n",
      "          (attention): BertAttention(\n",
      "            (self): BertSelfAttention(\n",
      "              (query): Linear(in_features=768, out_features=768, bias=True)\n",
      "              (key): Linear(in_features=768, out_features=768, bias=True)\n",
      "              (value): Linear(in_features=768, out_features=768, bias=True)\n",
      "              (dropout): Dropout(p=0.1, inplace=False)\n",
      "            )\n",
      "            (output): BertSelfOutput(\n",
      "              (dense): Linear(in_features=768, out_features=768, bias=True)\n",
      "              (LayerNorm): LayerNorm((768,), eps=1e-12, elementwise_affine=True)\n",
      "              (dropout): Dropout(p=0.1, inplace=False)\n",
      "            )\n",
      "          )\n",
      "          (intermediate): BertIntermediate(\n",
      "            (dense): Linear(in_features=768, out_features=3072, bias=True)\n",
      "            (intermediate_act_fn): GELUActivation()\n",
      "          )\n",
      "          (output): BertOutput(\n",
      "            (dense): Linear(in_features=3072, out_features=768, bias=True)\n",
      "            (LayerNorm): LayerNorm((768,), eps=1e-12, elementwise_affine=True)\n",
      "            (dropout): Dropout(p=0.1, inplace=False)\n",
      "          )\n",
      "        )\n",
      "      )\n",
      "    )\n",
      "  )\n",
      "  (cls): BertOnlyMLMHead(\n",
      "    (predictions): BertLMPredictionHead(\n",
      "      (transform): BertPredictionHeadTransform(\n",
      "        (dense): Linear(in_features=768, out_features=768, bias=True)\n",
      "        (transform_act_fn): GELUActivation()\n",
      "        (LayerNorm): LayerNorm((768,), eps=1e-12, elementwise_affine=True)\n",
      "      )\n",
      "      (decoder): Linear(in_features=768, out_features=30522, bias=True)\n",
      "    )\n",
      "  )\n",
      ")\n"
     ]
    }
   ],
   "source": [
    "unmasker = pipeline('fill-mask', model=model_name)\n",
    "unmasker.model.to(device)\n",
    "\n",
    "# vytiskne paramtery modelu\n",
    "print(unmasker.model)"
   ]
  },
  {
   "cell_type": "code",
   "execution_count": 27,
   "metadata": {},
   "outputs": [],
   "source": [
    "def print_unmasker_output(output: list) -> None:\n",
    "    for i, o in enumerate(output):\n",
    "        print(f'{i+1}. {o[\"sequence\"]} \\t  {o[\"token_str\"]}, ({o[\"score\"]:.2f})')"
   ]
  },
  {
   "cell_type": "code",
   "execution_count": 35,
   "metadata": {},
   "outputs": [
    {
     "name": "stdout",
     "output_type": "stream",
     "text": [
      "1. hello i'm a fashion model. \t  fashion, (0.11)\n",
      "2. hello i'm a role model. \t  role, (0.09)\n",
      "3. hello i'm a new model. \t  new, (0.05)\n"
     ]
    }
   ],
   "source": [
    "filed = unmasker(\"Hello I'm a [MASK] model.\", top_k=3)\n",
    "print_unmasker_output(filed)"
   ]
  },
  {
   "cell_type": "code",
   "execution_count": 36,
   "metadata": {},
   "outputs": [
    {
     "name": "stdout",
     "output_type": "stream",
     "text": [
      "1. # coding with bert model import code as np \t  code, (0.12)\n",
      "2. # coding with bert model importer as np \t  ##er, (0.07)\n",
      "3. # coding with bert model importing as np \t  ##ing, (0.06)\n",
      "4. # coding with bert model imported as np \t  ##ed, (0.04)\n",
      "5. # coding with bert model importable as np \t  ##able, (0.04)\n",
      "6. # coding with bert model import codes as np \t  codes, (0.03)\n",
      "7. # coding with bert model importation as np \t  ##ation, (0.02)\n",
      "8. # coding with bert model import function as np \t  function, (0.01)\n",
      "9. # coding with bert model import listed as np \t  listed, (0.01)\n",
      "10. # coding with bert model import such as np \t  such, (0.01)\n"
     ]
    }
   ],
   "source": [
    "filed = unmasker(\"\"\"\n",
    "# Coding with BERT model\n",
    "import [MASK] as np\n",
    "\"\"\", top_k=10)\n",
    "print_unmasker_output(filed)"
   ]
  },
  {
   "cell_type": "code",
   "execution_count": 37,
   "metadata": {},
   "outputs": [
    {
     "name": "stdout",
     "output_type": "stream",
     "text": [
      "1. romeo and juliet is a shakespeare play. \t  shakespeare, (0.22)\n",
      "2. romeo and juliet is a musical play. \t  musical, (0.07)\n",
      "3. romeo and juliet is a stage play. \t  stage, (0.04)\n"
     ]
    }
   ],
   "source": [
    "filed = unmasker(\"Romeo and Juliet is a [MASK] play.\", top_k=3)\n",
    "print_unmasker_output(filed)"
   ]
  },
  {
   "cell_type": "code",
   "execution_count": 38,
   "metadata": {},
   "outputs": [
    {
     "name": "stdout",
     "output_type": "stream",
     "text": [
      "1. romeo and juliet is a shakespeare play. \t  shakespeare, (0.22)\n",
      "2. romeo and juliet is a musical play. \t  musical, (0.07)\n",
      "3. romeo and juliet is a stage play. \t  stage, (0.04)\n",
      "4. romeo and juliet is a theatrical play. \t  theatrical, (0.04)\n",
      "5. romeo and juliet is a theatre play. \t  theatre, (0.03)\n",
      "6. romeo and juliet is a french play. \t  french, (0.02)\n",
      "7. romeo and juliet is a tragedy play. \t  tragedy, (0.02)\n",
      "8. romeo and juliet is a contemporary play. \t  contemporary, (0.02)\n",
      "9. romeo and juliet is a theater play. \t  theater, (0.01)\n",
      "10. romeo and juliet is a modern play. \t  modern, (0.01)\n"
     ]
    }
   ],
   "source": [
    "filed = unmasker(\"Romeo and Juliet is a [MASK] play.\", top_k=10)\n",
    "print_unmasker_output(filed)"
   ]
  },
  {
   "cell_type": "code",
   "execution_count": 42,
   "metadata": {},
   "outputs": [
    {
     "data": {
      "text/plain": [
       "[[{'score': 0.013635069131851196,\n",
       "   'token': 8792,\n",
       "   'token_str': '1851',\n",
       "   'sequence': '[CLS] continent of america was discovered in 1851 by [MASK]. [SEP]'},\n",
       "  {'score': 0.012034972198307514,\n",
       "   'token': 8165,\n",
       "   'token_str': '1859',\n",
       "   'sequence': '[CLS] continent of america was discovered in 1859 by [MASK]. [SEP]'},\n",
       "  {'score': 0.01202911976724863,\n",
       "   'token': 6717,\n",
       "   'token_str': '1864',\n",
       "   'sequence': '[CLS] continent of america was discovered in 1864 by [MASK]. [SEP]'},\n",
       "  {'score': 0.010807191021740437,\n",
       "   'token': 6929,\n",
       "   'token_str': '1886',\n",
       "   'sequence': '[CLS] continent of america was discovered in 1886 by [MASK]. [SEP]'},\n",
       "  {'score': 0.010435503907501698,\n",
       "   'token': 10081,\n",
       "   'token_str': '1836',\n",
       "   'sequence': '[CLS] continent of america was discovered in 1836 by [MASK]. [SEP]'},\n",
       "  {'score': 0.010013565421104431,\n",
       "   'token': 8933,\n",
       "   'token_str': '1853',\n",
       "   'sequence': '[CLS] continent of america was discovered in 1853 by [MASK]. [SEP]'},\n",
       "  {'score': 0.009626875631511211,\n",
       "   'token': 7313,\n",
       "   'token_str': '1860',\n",
       "   'sequence': '[CLS] continent of america was discovered in 1860 by [MASK]. [SEP]'},\n",
       "  {'score': 0.009194863960146904,\n",
       "   'token': 10700,\n",
       "   'token_str': '1834',\n",
       "   'sequence': '[CLS] continent of america was discovered in 1834 by [MASK]. [SEP]'},\n",
       "  {'score': 0.009144702926278114,\n",
       "   'token': 6347,\n",
       "   'token_str': '1897',\n",
       "   'sequence': '[CLS] continent of america was discovered in 1897 by [MASK]. [SEP]'},\n",
       "  {'score': 0.008746865205466747,\n",
       "   'token': 8517,\n",
       "   'token_str': '1858',\n",
       "   'sequence': '[CLS] continent of america was discovered in 1858 by [MASK]. [SEP]'},\n",
       "  {'score': 0.008698376826941967,\n",
       "   'token': 11040,\n",
       "   'token_str': '1833',\n",
       "   'sequence': '[CLS] continent of america was discovered in 1833 by [MASK]. [SEP]'},\n",
       "  {'score': 0.008529353886842728,\n",
       "   'token': 9037,\n",
       "   'token_str': '1849',\n",
       "   'sequence': '[CLS] continent of america was discovered in 1849 by [MASK]. [SEP]'},\n",
       "  {'score': 0.008508068509399891,\n",
       "   'token': 11931,\n",
       "   'token_str': '1826',\n",
       "   'sequence': '[CLS] continent of america was discovered in 1826 by [MASK]. [SEP]'},\n",
       "  {'score': 0.008231759071350098,\n",
       "   'token': 11723,\n",
       "   'token_str': '1821',\n",
       "   'sequence': '[CLS] continent of america was discovered in 1821 by [MASK]. [SEP]'},\n",
       "  {'score': 0.008199768140912056,\n",
       "   'token': 12309,\n",
       "   'token_str': '1827',\n",
       "   'sequence': '[CLS] continent of america was discovered in 1827 by [MASK]. [SEP]'}],\n",
       " [{'score': 0.10103391855955124,\n",
       "   'token': 13481,\n",
       "   'token_str': 'europeans',\n",
       "   'sequence': '[CLS] continent of america was discovered in [MASK] by europeans. [SEP]'},\n",
       "  {'score': 0.033943112939596176,\n",
       "   'token': 8912,\n",
       "   'token_str': 'columbus',\n",
       "   'sequence': '[CLS] continent of america was discovered in [MASK] by columbus. [SEP]'},\n",
       "  {'score': 0.02915971726179123,\n",
       "   'token': 23517,\n",
       "   'token_str': 'ptolemy',\n",
       "   'sequence': '[CLS] continent of america was discovered in [MASK] by ptolemy. [SEP]'},\n",
       "  {'score': 0.02867349050939083,\n",
       "   'token': 21610,\n",
       "   'token_str': 'linnaeus',\n",
       "   'sequence': '[CLS] continent of america was discovered in [MASK] by linnaeus. [SEP]'},\n",
       "  {'score': 0.021060941740870476,\n",
       "   'token': 9274,\n",
       "   'token_str': 'nasa',\n",
       "   'sequence': '[CLS] continent of america was discovered in [MASK] by nasa. [SEP]'},\n",
       "  {'score': 0.016383767127990723,\n",
       "   'token': 6529,\n",
       "   'token_str': 'scientists',\n",
       "   'sequence': '[CLS] continent of america was discovered in [MASK] by scientists. [SEP]'},\n",
       "  {'score': 0.015047400258481503,\n",
       "   'token': 2413,\n",
       "   'token_str': 'french',\n",
       "   'sequence': '[CLS] continent of america was discovered in [MASK] by french. [SEP]'},\n",
       "  {'score': 0.013753622770309448,\n",
       "   'token': 5456,\n",
       "   'token_str': 'discovery',\n",
       "   'sequence': '[CLS] continent of america was discovered in [MASK] by discovery. [SEP]'},\n",
       "  {'score': 0.0129047567024827,\n",
       "   'token': 10424,\n",
       "   'token_str': 'fr',\n",
       "   'sequence': '[CLS] continent of america was discovered in [MASK] by fr. [SEP]'},\n",
       "  {'score': 0.009350577369332314,\n",
       "   'token': 6842,\n",
       "   'token_str': 'hudson',\n",
       "   'sequence': '[CLS] continent of america was discovered in [MASK] by hudson. [SEP]'},\n",
       "  {'score': 0.009288797155022621,\n",
       "   'token': 2671,\n",
       "   'token_str': 'science',\n",
       "   'sequence': '[CLS] continent of america was discovered in [MASK] by science. [SEP]'},\n",
       "  {'score': 0.007976902648806572,\n",
       "   'token': 5590,\n",
       "   'token_str': 'expedition',\n",
       "   'sequence': '[CLS] continent of america was discovered in [MASK] by expedition. [SEP]'},\n",
       "  {'score': 0.0074270558543503284,\n",
       "   'token': 5951,\n",
       "   'token_str': 'franklin',\n",
       "   'sequence': '[CLS] continent of america was discovered in [MASK] by franklin. [SEP]'},\n",
       "  {'score': 0.007278362289071083,\n",
       "   'token': 2605,\n",
       "   'token_str': 'france',\n",
       "   'sequence': '[CLS] continent of america was discovered in [MASK] by france. [SEP]'},\n",
       "  {'score': 0.0071984874084591866,\n",
       "   'token': 2032,\n",
       "   'token_str': 'him',\n",
       "   'sequence': '[CLS] continent of america was discovered in [MASK] by him. [SEP]'}]]"
      ]
     },
     "execution_count": 42,
     "metadata": {},
     "output_type": "execute_result"
    }
   ],
   "source": [
    "unmasker(\"Continent of America was discovered in [MASK] by [MASK].\", top_k=15)"
   ]
  },
  {
   "cell_type": "code",
   "execution_count": 43,
   "metadata": {},
   "outputs": [
    {
     "name": "stdout",
     "output_type": "stream",
     "text": [
      "1. continent of america was discovered by europeans. \t  europeans, (0.05)\n",
      "2. continent of america was discovered by c. \t  c, (0.05)\n",
      "3. continent of america was discovered by fr. \t  fr, (0.04)\n",
      "4. continent of america was discovered by columbus. \t  columbus, (0.03)\n",
      "5. continent of america was discovered by ptolemy. \t  ptolemy, (0.03)\n"
     ]
    }
   ],
   "source": [
    "filed = unmasker(\"Continent of America was discovered by [MASK].\", top_k=5)\n",
    "print_unmasker_output(filed)"
   ]
  },
  {
   "cell_type": "markdown",
   "metadata": {},
   "source": [
    "## 2. část - BERT contextualized word embeddings\n",
    "\n",
    "BERT dokumentace obsahuje také návod jak použít tento model pro získání word embeddingů. Vyzkoušejte použití stejného slova v různém kontextu a podívejte se, jak se mění kosinova podobnost embeddingů v závislosti na kontextu daného slova.\n",
    "\n",
    "Podívejte se na výstup tokenizeru před vstupem do BERT modelu - kolik tokenů bylo vytvořeno pro větu \"Hello, this is Bert.\"? Zdůvodněte jejich počet.\n",
    "\n",
    "<br>\n",
    "Pozn.: Vyřešení předchozí otázky Vám pomůže zjistit, který vektor z výstupu pro cílové slovo použít."
   ]
  },
  {
   "cell_type": "code",
   "execution_count": 46,
   "metadata": {},
   "outputs": [
    {
     "name": "stderr",
     "output_type": "stream",
     "text": [
      "Some weights of the model checkpoint at bert-base-uncased were not used when initializing BertModel: ['cls.seq_relationship.weight', 'cls.predictions.transform.dense.weight', 'cls.seq_relationship.bias', 'cls.predictions.transform.LayerNorm.weight', 'cls.predictions.transform.LayerNorm.bias', 'cls.predictions.transform.dense.bias', 'cls.predictions.decoder.weight', 'cls.predictions.bias']\n",
      "- This IS expected if you are initializing BertModel from the checkpoint of a model trained on another task or with another architecture (e.g. initializing a BertForSequenceClassification model from a BertForPreTraining model).\n",
      "- This IS NOT expected if you are initializing BertModel from the checkpoint of a model that you expect to be exactly identical (initializing a BertForSequenceClassification model from a BertForSequenceClassification model).\n"
     ]
    },
    {
     "name": "stdout",
     "output_type": "stream",
     "text": [
      "torch.Size([1, 3, 768])\n",
      "torch.Size([1, 4, 768])\n",
      "torch.Size([1, 8, 768])\n"
     ]
    }
   ],
   "source": [
    "nlp = pipeline('feature-extraction', model=model_name)\n",
    "print(torch.Tensor(nlp(\"Hello\")).shape)\n",
    "print(torch.Tensor(nlp(\"Hello,\")).shape)\n",
    "print(torch.Tensor(nlp(\"Hello, this is Bert.\")).shape)"
   ]
  },
  {
   "attachments": {},
   "cell_type": "markdown",
   "metadata": {},
   "source": [
    "### Výstup z tokenizéru:\n",
    "- Embeding vektor má dimenzi 768.\n",
    "- První embedding `[CLS]` je speciální embedding pro začátek věty.\n",
    "- Poslední embedding `[SEP]` je speciální embedding pro konec věty.\n",
    "\n",
    "Takže věta *\"Hello, this is Bert.\"* obsahuje 4x slova, 2x interpunkci a 2x (start, stop) => 8 embedingů."
   ]
  },
  {
   "cell_type": "code",
   "execution_count": 92,
   "metadata": {},
   "outputs": [],
   "source": [
    "# Porovnání cosinusové vzdálenosti mezi vektory\n",
    "def cos_sim(a, b):\n",
    "    return torch.nn.functional.cosine_similarity(a, b, dim=0)\n",
    "\n",
    "# Vytvoření vzorových vět\n",
    "sentences = [\n",
    "    (\"desert, poušt\", \"Desert is a dry area with little water and few plants.\", 1),\n",
    "    (\"wasteland, pustina\", \"The wasteland was covered in sand.\", 2), # strange embeding lenght\n",
    "    (\"void, prázdnota\", \"This place is void of all life.\", 4),\n",
    "    (\"desolated, zničena\", \"The local landscape was desolated.\", 5), # strange embeding lenght\n",
    "    (\"desert, dezertovat\", \"The soldier deserted.\", 3),\n",
    "    (\"defector, zběh\", \"This man is a defector.\", 5),\n",
    "    (\"dessert, zákusek\", \"Dessert is a sweet food served at the end of a meal.\", 1),\n",
    "    (\"cake, dort\", \"This is my birthday cake.\", 5),\n",
    "    (\"dessert, zákusek\", \"I would like to order a dessert.\", 7)\n",
    "]"
   ]
  },
  {
   "cell_type": "code",
   "execution_count": 93,
   "metadata": {},
   "outputs": [
    {
     "name": "stdout",
     "output_type": "stream",
     "text": [
      "desert, poušt , picked word:  Desert \t Sentece lenght: 14\n",
      "wasteland, pustina , picked word:  wasteland \t Sentece lenght: 10\n",
      "void, prázdnota , picked word:  void \t Sentece lenght: 10\n",
      "desolated, zničena , picked word:  desolated. \t Sentece lenght: 10\n",
      "desert, desertovat , picked word:  deserted. \t Sentece lenght: 6\n",
      "defector, zběh , picked word:  defector. \t Sentece lenght: 9\n",
      "dessert, zákusek , picked word:  Dessert \t Sentece lenght: 15\n",
      "cake, dort , picked word:  cake. \t Sentece lenght: 8\n",
      "dessert, zákusek , picked word:  dessert. \t Sentece lenght: 10\n"
     ]
    }
   ],
   "source": [
    "# Testovací výpis anotací a slov z indexů ve větě.\n",
    "for anotation, sentence, word_index in sentences:\n",
    "    print(anotation, \", picked word: \", sentence.split(\" \")[word_index-1], \n",
    "        \"\\t Sentece lenght:\", torch.Tensor(nlp(sentence)).shape[1])"
   ]
  },
  {
   "cell_type": "code",
   "execution_count": 94,
   "metadata": {},
   "outputs": [
    {
     "name": "stdout",
     "output_type": "stream",
     "text": [
      "desert, poušt - wasteland, pustina: 0.20\n",
      "desert, poušt - void, prázdnota: 0.13\n",
      "desert, poušt - desolated, zničena: 0.06\n",
      "desert, poušt - desert, desertovat: 0.15\n",
      "desert, poušt - defector, zběh: 0.04\n",
      "desert, poušt - dessert, zákusek: 0.69\n",
      "desert, poušt - cake, dort: 0.01\n",
      "desert, poušt - dessert, zákusek: 0.09\n",
      "wasteland, pustina - desert, poušt: 0.20\n",
      "wasteland, pustina - void, prázdnota: 0.43\n",
      "wasteland, pustina - desolated, zničena: 0.54\n",
      "wasteland, pustina - desert, desertovat: 0.31\n",
      "wasteland, pustina - defector, zběh: 0.42\n",
      "wasteland, pustina - dessert, zákusek: 0.06\n",
      "wasteland, pustina - cake, dort: 0.28\n",
      "wasteland, pustina - dessert, zákusek: 0.16\n",
      "void, prázdnota - desert, poušt: 0.13\n",
      "void, prázdnota - wasteland, pustina: 0.43\n",
      "void, prázdnota - desolated, zničena: 0.60\n",
      "void, prázdnota - desert, desertovat: 0.45\n",
      "void, prázdnota - defector, zběh: 0.41\n",
      "void, prázdnota - dessert, zákusek: 0.06\n",
      "void, prázdnota - cake, dort: 0.32\n",
      "void, prázdnota - dessert, zákusek: 0.29\n",
      "desolated, zničena - desert, poušt: 0.06\n",
      "desolated, zničena - wasteland, pustina: 0.54\n",
      "desolated, zničena - void, prázdnota: 0.60\n",
      "desolated, zničena - desert, desertovat: 0.44\n",
      "desolated, zničena - defector, zběh: 0.41\n",
      "desolated, zničena - dessert, zákusek: -0.03\n",
      "desolated, zničena - cake, dort: 0.37\n",
      "desolated, zničena - dessert, zákusek: 0.23\n",
      "desert, desertovat - desert, poušt: 0.15\n",
      "desert, desertovat - wasteland, pustina: 0.31\n",
      "desert, desertovat - void, prázdnota: 0.45\n",
      "desert, desertovat - desolated, zničena: 0.44\n",
      "desert, desertovat - defector, zběh: 0.35\n",
      "desert, desertovat - dessert, zákusek: 0.07\n",
      "desert, desertovat - cake, dort: 0.28\n",
      "desert, desertovat - dessert, zákusek: 0.29\n",
      "defector, zběh - desert, poušt: 0.04\n",
      "defector, zběh - wasteland, pustina: 0.42\n",
      "defector, zběh - void, prázdnota: 0.41\n",
      "defector, zběh - desolated, zničena: 0.41\n",
      "defector, zběh - desert, desertovat: 0.35\n",
      "defector, zběh - dessert, zákusek: 0.01\n",
      "defector, zběh - cake, dort: 0.31\n",
      "defector, zběh - dessert, zákusek: 0.28\n",
      "dessert, zákusek - desert, poušt: 0.69\n",
      "dessert, zákusek - wasteland, pustina: 0.06\n",
      "dessert, zákusek - void, prázdnota: 0.06\n",
      "dessert, zákusek - desolated, zničena: -0.03\n",
      "dessert, zákusek - desert, desertovat: 0.07\n",
      "dessert, zákusek - defector, zběh: 0.01\n",
      "dessert, zákusek - cake, dort: 0.13\n",
      "dessert, zákusek - dessert, zákusek: 0.35\n",
      "cake, dort - desert, poušt: 0.01\n",
      "cake, dort - wasteland, pustina: 0.28\n",
      "cake, dort - void, prázdnota: 0.32\n",
      "cake, dort - desolated, zničena: 0.37\n",
      "cake, dort - desert, desertovat: 0.28\n",
      "cake, dort - defector, zběh: 0.31\n",
      "cake, dort - dessert, zákusek: 0.13\n",
      "cake, dort - dessert, zákusek: 0.52\n",
      "dessert, zákusek - desert, poušt: 0.09\n",
      "dessert, zákusek - wasteland, pustina: 0.16\n",
      "dessert, zákusek - void, prázdnota: 0.29\n",
      "dessert, zákusek - desolated, zničena: 0.23\n",
      "dessert, zákusek - desert, desertovat: 0.29\n",
      "dessert, zákusek - defector, zběh: 0.28\n",
      "dessert, zákusek - dessert, zákusek: 0.35\n",
      "dessert, zákusek - cake, dort: 0.52\n"
     ]
    }
   ],
   "source": [
    "# Vytvoření embeddingů pro všechny věty\n",
    "embeddings = []\n",
    "for anotation, sentence, word_index in sentences:\n",
    "    embeddings.append(torch.Tensor(nlp(sentence))[0][word_index])\n",
    "\n",
    "# Spočte se kosínová vzdálenost mezi kombinacemi vět\n",
    "for i in range(len(sentences)):\n",
    "    for j in range(len(sentences)):\n",
    "        if i != j:\n",
    "            print(f\"{sentences[i][0]} - {sentences[j][0]}: {cos_sim(embeddings[i], embeddings[j]):.2f}\")\n"
   ]
  },
  {
   "cell_type": "markdown",
   "metadata": {},
   "source": [
    "## Bonus - Vizualizace slovních  embeddingů\n",
    "\n",
    "Vizualizujte slovní embeddingy - mění se jejich pozice v závislosti na kontextu tak, jak byste očekávali? Pokuste se vizualizovat i některá slova, ke kterým by se podle vás cílové slovo mělo po změně kontextu přiblížit."
   ]
  },
  {
   "cell_type": "code",
   "execution_count": 96,
   "metadata": {},
   "outputs": [
    {
     "name": "stderr",
     "output_type": "stream",
     "text": [
      "/home/pytel/.local/lib/python3.10/site-packages/sklearn/manifold/_t_sne.py:800: FutureWarning:\n",
      "\n",
      "The default initialization in TSNE will change from 'random' to 'pca' in 1.2.\n",
      "\n",
      "/home/pytel/.local/lib/python3.10/site-packages/sklearn/manifold/_t_sne.py:810: FutureWarning:\n",
      "\n",
      "The default learning rate in TSNE will change from 200.0 to 'auto' in 1.2.\n",
      "\n"
     ]
    },
    {
     "data": {
      "application/vnd.plotly.v1+json": {
       "config": {
        "plotlyServerURL": "https://plot.ly"
       },
       "data": [
        {
         "hovertemplate": "x=%{x}<br>index=%{y}<br>text=%{text}<extra></extra>",
         "legendgroup": "",
         "marker": {
          "color": "#636efa",
          "symbol": "circle"
         },
         "mode": "markers+text",
         "name": "",
         "orientation": "h",
         "showlegend": false,
         "text": [
          "desert, poušt",
          "wasteland, pustina",
          "void, prázdnota",
          "desolated, zničena",
          "desert, desertovat",
          "defector, zběh",
          "dessert, zákusek",
          "cake, dort",
          "dessert, zákusek"
         ],
         "type": "scatter",
         "x": [
          -165.30235290527344,
          51.754005432128906,
          42.31572723388672,
          41.43803787231445,
          -3.6086835861206055,
          99.09680938720703,
          -204.55361938476562,
          -270.4828186035156,
          -261.5076904296875
         ],
         "xaxis": "x",
         "y": [
          0,
          1,
          2,
          3,
          4,
          5,
          6,
          7,
          8
         ],
         "yaxis": "y"
        }
       ],
       "layout": {
        "coloraxis": {
         "showscale": false
        },
        "legend": {
         "tracegroupgap": 0
        },
        "margin": {
         "t": 60
        },
        "template": {
         "data": {
          "bar": [
           {
            "error_x": {
             "color": "#2a3f5f"
            },
            "error_y": {
             "color": "#2a3f5f"
            },
            "marker": {
             "line": {
              "color": "#E5ECF6",
              "width": 0.5
             },
             "pattern": {
              "fillmode": "overlay",
              "size": 10,
              "solidity": 0.2
             }
            },
            "type": "bar"
           }
          ],
          "barpolar": [
           {
            "marker": {
             "line": {
              "color": "#E5ECF6",
              "width": 0.5
             },
             "pattern": {
              "fillmode": "overlay",
              "size": 10,
              "solidity": 0.2
             }
            },
            "type": "barpolar"
           }
          ],
          "carpet": [
           {
            "aaxis": {
             "endlinecolor": "#2a3f5f",
             "gridcolor": "white",
             "linecolor": "white",
             "minorgridcolor": "white",
             "startlinecolor": "#2a3f5f"
            },
            "baxis": {
             "endlinecolor": "#2a3f5f",
             "gridcolor": "white",
             "linecolor": "white",
             "minorgridcolor": "white",
             "startlinecolor": "#2a3f5f"
            },
            "type": "carpet"
           }
          ],
          "choropleth": [
           {
            "colorbar": {
             "outlinewidth": 0,
             "ticks": ""
            },
            "type": "choropleth"
           }
          ],
          "contour": [
           {
            "colorbar": {
             "outlinewidth": 0,
             "ticks": ""
            },
            "colorscale": [
             [
              0,
              "#0d0887"
             ],
             [
              0.1111111111111111,
              "#46039f"
             ],
             [
              0.2222222222222222,
              "#7201a8"
             ],
             [
              0.3333333333333333,
              "#9c179e"
             ],
             [
              0.4444444444444444,
              "#bd3786"
             ],
             [
              0.5555555555555556,
              "#d8576b"
             ],
             [
              0.6666666666666666,
              "#ed7953"
             ],
             [
              0.7777777777777778,
              "#fb9f3a"
             ],
             [
              0.8888888888888888,
              "#fdca26"
             ],
             [
              1,
              "#f0f921"
             ]
            ],
            "type": "contour"
           }
          ],
          "contourcarpet": [
           {
            "colorbar": {
             "outlinewidth": 0,
             "ticks": ""
            },
            "type": "contourcarpet"
           }
          ],
          "heatmap": [
           {
            "colorbar": {
             "outlinewidth": 0,
             "ticks": ""
            },
            "colorscale": [
             [
              0,
              "#0d0887"
             ],
             [
              0.1111111111111111,
              "#46039f"
             ],
             [
              0.2222222222222222,
              "#7201a8"
             ],
             [
              0.3333333333333333,
              "#9c179e"
             ],
             [
              0.4444444444444444,
              "#bd3786"
             ],
             [
              0.5555555555555556,
              "#d8576b"
             ],
             [
              0.6666666666666666,
              "#ed7953"
             ],
             [
              0.7777777777777778,
              "#fb9f3a"
             ],
             [
              0.8888888888888888,
              "#fdca26"
             ],
             [
              1,
              "#f0f921"
             ]
            ],
            "type": "heatmap"
           }
          ],
          "heatmapgl": [
           {
            "colorbar": {
             "outlinewidth": 0,
             "ticks": ""
            },
            "colorscale": [
             [
              0,
              "#0d0887"
             ],
             [
              0.1111111111111111,
              "#46039f"
             ],
             [
              0.2222222222222222,
              "#7201a8"
             ],
             [
              0.3333333333333333,
              "#9c179e"
             ],
             [
              0.4444444444444444,
              "#bd3786"
             ],
             [
              0.5555555555555556,
              "#d8576b"
             ],
             [
              0.6666666666666666,
              "#ed7953"
             ],
             [
              0.7777777777777778,
              "#fb9f3a"
             ],
             [
              0.8888888888888888,
              "#fdca26"
             ],
             [
              1,
              "#f0f921"
             ]
            ],
            "type": "heatmapgl"
           }
          ],
          "histogram": [
           {
            "marker": {
             "pattern": {
              "fillmode": "overlay",
              "size": 10,
              "solidity": 0.2
             }
            },
            "type": "histogram"
           }
          ],
          "histogram2d": [
           {
            "colorbar": {
             "outlinewidth": 0,
             "ticks": ""
            },
            "colorscale": [
             [
              0,
              "#0d0887"
             ],
             [
              0.1111111111111111,
              "#46039f"
             ],
             [
              0.2222222222222222,
              "#7201a8"
             ],
             [
              0.3333333333333333,
              "#9c179e"
             ],
             [
              0.4444444444444444,
              "#bd3786"
             ],
             [
              0.5555555555555556,
              "#d8576b"
             ],
             [
              0.6666666666666666,
              "#ed7953"
             ],
             [
              0.7777777777777778,
              "#fb9f3a"
             ],
             [
              0.8888888888888888,
              "#fdca26"
             ],
             [
              1,
              "#f0f921"
             ]
            ],
            "type": "histogram2d"
           }
          ],
          "histogram2dcontour": [
           {
            "colorbar": {
             "outlinewidth": 0,
             "ticks": ""
            },
            "colorscale": [
             [
              0,
              "#0d0887"
             ],
             [
              0.1111111111111111,
              "#46039f"
             ],
             [
              0.2222222222222222,
              "#7201a8"
             ],
             [
              0.3333333333333333,
              "#9c179e"
             ],
             [
              0.4444444444444444,
              "#bd3786"
             ],
             [
              0.5555555555555556,
              "#d8576b"
             ],
             [
              0.6666666666666666,
              "#ed7953"
             ],
             [
              0.7777777777777778,
              "#fb9f3a"
             ],
             [
              0.8888888888888888,
              "#fdca26"
             ],
             [
              1,
              "#f0f921"
             ]
            ],
            "type": "histogram2dcontour"
           }
          ],
          "mesh3d": [
           {
            "colorbar": {
             "outlinewidth": 0,
             "ticks": ""
            },
            "type": "mesh3d"
           }
          ],
          "parcoords": [
           {
            "line": {
             "colorbar": {
              "outlinewidth": 0,
              "ticks": ""
             }
            },
            "type": "parcoords"
           }
          ],
          "pie": [
           {
            "automargin": true,
            "type": "pie"
           }
          ],
          "scatter": [
           {
            "fillpattern": {
             "fillmode": "overlay",
             "size": 10,
             "solidity": 0.2
            },
            "type": "scatter"
           }
          ],
          "scatter3d": [
           {
            "line": {
             "colorbar": {
              "outlinewidth": 0,
              "ticks": ""
             }
            },
            "marker": {
             "colorbar": {
              "outlinewidth": 0,
              "ticks": ""
             }
            },
            "type": "scatter3d"
           }
          ],
          "scattercarpet": [
           {
            "marker": {
             "colorbar": {
              "outlinewidth": 0,
              "ticks": ""
             }
            },
            "type": "scattercarpet"
           }
          ],
          "scattergeo": [
           {
            "marker": {
             "colorbar": {
              "outlinewidth": 0,
              "ticks": ""
             }
            },
            "type": "scattergeo"
           }
          ],
          "scattergl": [
           {
            "marker": {
             "colorbar": {
              "outlinewidth": 0,
              "ticks": ""
             }
            },
            "type": "scattergl"
           }
          ],
          "scattermapbox": [
           {
            "marker": {
             "colorbar": {
              "outlinewidth": 0,
              "ticks": ""
             }
            },
            "type": "scattermapbox"
           }
          ],
          "scatterpolar": [
           {
            "marker": {
             "colorbar": {
              "outlinewidth": 0,
              "ticks": ""
             }
            },
            "type": "scatterpolar"
           }
          ],
          "scatterpolargl": [
           {
            "marker": {
             "colorbar": {
              "outlinewidth": 0,
              "ticks": ""
             }
            },
            "type": "scatterpolargl"
           }
          ],
          "scatterternary": [
           {
            "marker": {
             "colorbar": {
              "outlinewidth": 0,
              "ticks": ""
             }
            },
            "type": "scatterternary"
           }
          ],
          "surface": [
           {
            "colorbar": {
             "outlinewidth": 0,
             "ticks": ""
            },
            "colorscale": [
             [
              0,
              "#0d0887"
             ],
             [
              0.1111111111111111,
              "#46039f"
             ],
             [
              0.2222222222222222,
              "#7201a8"
             ],
             [
              0.3333333333333333,
              "#9c179e"
             ],
             [
              0.4444444444444444,
              "#bd3786"
             ],
             [
              0.5555555555555556,
              "#d8576b"
             ],
             [
              0.6666666666666666,
              "#ed7953"
             ],
             [
              0.7777777777777778,
              "#fb9f3a"
             ],
             [
              0.8888888888888888,
              "#fdca26"
             ],
             [
              1,
              "#f0f921"
             ]
            ],
            "type": "surface"
           }
          ],
          "table": [
           {
            "cells": {
             "fill": {
              "color": "#EBF0F8"
             },
             "line": {
              "color": "white"
             }
            },
            "header": {
             "fill": {
              "color": "#C8D4E3"
             },
             "line": {
              "color": "white"
             }
            },
            "type": "table"
           }
          ]
         },
         "layout": {
          "annotationdefaults": {
           "arrowcolor": "#2a3f5f",
           "arrowhead": 0,
           "arrowwidth": 1
          },
          "autotypenumbers": "strict",
          "coloraxis": {
           "colorbar": {
            "outlinewidth": 0,
            "ticks": ""
           }
          },
          "colorscale": {
           "diverging": [
            [
             0,
             "#8e0152"
            ],
            [
             0.1,
             "#c51b7d"
            ],
            [
             0.2,
             "#de77ae"
            ],
            [
             0.3,
             "#f1b6da"
            ],
            [
             0.4,
             "#fde0ef"
            ],
            [
             0.5,
             "#f7f7f7"
            ],
            [
             0.6,
             "#e6f5d0"
            ],
            [
             0.7,
             "#b8e186"
            ],
            [
             0.8,
             "#7fbc41"
            ],
            [
             0.9,
             "#4d9221"
            ],
            [
             1,
             "#276419"
            ]
           ],
           "sequential": [
            [
             0,
             "#0d0887"
            ],
            [
             0.1111111111111111,
             "#46039f"
            ],
            [
             0.2222222222222222,
             "#7201a8"
            ],
            [
             0.3333333333333333,
             "#9c179e"
            ],
            [
             0.4444444444444444,
             "#bd3786"
            ],
            [
             0.5555555555555556,
             "#d8576b"
            ],
            [
             0.6666666666666666,
             "#ed7953"
            ],
            [
             0.7777777777777778,
             "#fb9f3a"
            ],
            [
             0.8888888888888888,
             "#fdca26"
            ],
            [
             1,
             "#f0f921"
            ]
           ],
           "sequentialminus": [
            [
             0,
             "#0d0887"
            ],
            [
             0.1111111111111111,
             "#46039f"
            ],
            [
             0.2222222222222222,
             "#7201a8"
            ],
            [
             0.3333333333333333,
             "#9c179e"
            ],
            [
             0.4444444444444444,
             "#bd3786"
            ],
            [
             0.5555555555555556,
             "#d8576b"
            ],
            [
             0.6666666666666666,
             "#ed7953"
            ],
            [
             0.7777777777777778,
             "#fb9f3a"
            ],
            [
             0.8888888888888888,
             "#fdca26"
            ],
            [
             1,
             "#f0f921"
            ]
           ]
          },
          "colorway": [
           "#636efa",
           "#EF553B",
           "#00cc96",
           "#ab63fa",
           "#FFA15A",
           "#19d3f3",
           "#FF6692",
           "#B6E880",
           "#FF97FF",
           "#FECB52"
          ],
          "font": {
           "color": "#2a3f5f"
          },
          "geo": {
           "bgcolor": "white",
           "lakecolor": "white",
           "landcolor": "#E5ECF6",
           "showlakes": true,
           "showland": true,
           "subunitcolor": "white"
          },
          "hoverlabel": {
           "align": "left"
          },
          "hovermode": "closest",
          "mapbox": {
           "style": "light"
          },
          "paper_bgcolor": "white",
          "plot_bgcolor": "#E5ECF6",
          "polar": {
           "angularaxis": {
            "gridcolor": "white",
            "linecolor": "white",
            "ticks": ""
           },
           "bgcolor": "#E5ECF6",
           "radialaxis": {
            "gridcolor": "white",
            "linecolor": "white",
            "ticks": ""
           }
          },
          "scene": {
           "xaxis": {
            "backgroundcolor": "#E5ECF6",
            "gridcolor": "white",
            "gridwidth": 2,
            "linecolor": "white",
            "showbackground": true,
            "ticks": "",
            "zerolinecolor": "white"
           },
           "yaxis": {
            "backgroundcolor": "#E5ECF6",
            "gridcolor": "white",
            "gridwidth": 2,
            "linecolor": "white",
            "showbackground": true,
            "ticks": "",
            "zerolinecolor": "white"
           },
           "zaxis": {
            "backgroundcolor": "#E5ECF6",
            "gridcolor": "white",
            "gridwidth": 2,
            "linecolor": "white",
            "showbackground": true,
            "ticks": "",
            "zerolinecolor": "white"
           }
          },
          "shapedefaults": {
           "line": {
            "color": "#2a3f5f"
           }
          },
          "ternary": {
           "aaxis": {
            "gridcolor": "white",
            "linecolor": "white",
            "ticks": ""
           },
           "baxis": {
            "gridcolor": "white",
            "linecolor": "white",
            "ticks": ""
           },
           "bgcolor": "#E5ECF6",
           "caxis": {
            "gridcolor": "white",
            "linecolor": "white",
            "ticks": ""
           }
          },
          "title": {
           "x": 0.05
          },
          "xaxis": {
           "automargin": true,
           "gridcolor": "white",
           "linecolor": "white",
           "ticks": "",
           "title": {
            "standoff": 15
           },
           "zerolinecolor": "white",
           "zerolinewidth": 2
          },
          "yaxis": {
           "automargin": true,
           "gridcolor": "white",
           "linecolor": "white",
           "ticks": "",
           "title": {
            "standoff": 15
           },
           "zerolinecolor": "white",
           "zerolinewidth": 2
          }
         }
        },
        "xaxis": {
         "anchor": "y",
         "domain": [
          0,
          1
         ],
         "title": {
          "text": "x"
         }
        },
        "yaxis": {
         "anchor": "x",
         "domain": [
          0,
          1
         ],
         "title": {
          "text": "index"
         }
        }
       }
      }
     },
     "metadata": {},
     "output_type": "display_data"
    }
   ],
   "source": [
    "# TSNE\n",
    "import numpy as np\n",
    "tsne = TSNE(n_components=2, perplexity=2).fit_transform(torch.stack(embeddings))\n",
    "\n",
    "plot = px.scatter(tsne[:, 0], tsne[:, 1], text=[s[0] for s in sentences])\n",
    "plot.update_coloraxes(showscale=False)\n",
    "plot.layout.template = 'plotly'\n",
    "plot"
   ]
  }
 ],
 "metadata": {
  "kernelspec": {
   "display_name": "Python 3",
   "language": "python",
   "name": "python3"
  },
  "language_info": {
   "codemirror_mode": {
    "name": "ipython",
    "version": 3
   },
   "file_extension": ".py",
   "mimetype": "text/x-python",
   "name": "python",
   "nbconvert_exporter": "python",
   "pygments_lexer": "ipython3",
   "version": "3.10.6"
  },
  "vscode": {
   "interpreter": {
    "hash": "916dbcbb3f70747c44a77c7bcd40155683ae19c65e1c03b4aa3499c5328201f1"
   }
  }
 },
 "nbformat": 4,
 "nbformat_minor": 4
}
