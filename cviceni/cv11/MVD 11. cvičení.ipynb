{
 "cells": [
  {
   "cell_type": "markdown",
   "metadata": {},
   "source": [
    "# MVD 11. cvičení\n"
   ]
  },
  {
   "cell_type": "markdown",
   "metadata": {},
   "source": [
    "## 1. část - Collaborative Filtering (item-item)\n",
    "\n",
    "Vytvořte si matici podle příkladu v přednášce na item-item přístup na snímku 24. Využijte centered cosine similarity pro výpočet podobností stejně jako v přednášce a vyberte dva nejbližší sousedy. Ověřte, že je výsledek v přednášce správný a implementujte funkci tak, aby bylo možné jednoduše spočítat i libovolné další vyhodnocení. "
   ]
  },
  {
   "cell_type": "code",
   "execution_count": 23,
   "metadata": {},
   "outputs": [],
   "source": [
    "import numpy as np"
   ]
  },
  {
   "cell_type": "code",
   "execution_count": 24,
   "metadata": {},
   "outputs": [],
   "source": [
    "data = np.array([\n",
    "    [1,0,3,0,0,5,0,0,5,0,4,0],\n",
    "    [0,0,5,4,0,0,4,0,0,2,1,3],\n",
    "    [2,4,0,1,2,0,3,0,4,3,5,0],\n",
    "    [0,2,4,0,5,0,0,4,0,0,2,0],\n",
    "    [0,0,4,3,4,2,0,0,0,0,2,5],\n",
    "    [1,0,3,0,3,0,0,2,0,0,4,0]\n",
    "])"
   ]
  },
  {
   "cell_type": "code",
   "execution_count": 130,
   "metadata": {},
   "outputs": [],
   "source": [
    "import torch\n",
    "import sklearn\n",
    "\n",
    "def center_vector(vector: np.array) -> np.array:\n",
    "    \"\"\"Centrování vektoru\n",
    "    Vstupem je vektor a výstupem je centrováný vektor.\n",
    "    \"\"\"\n",
    "    mask = (vector == 0)\n",
    "    sum = np.sum(vector, axis=1) / np.count_nonzero(vector, axis=1)\n",
    "    centered = np.where(mask, 0, vector - sum[:,np.newaxis])\n",
    "    return centered\n",
    "\n",
    "def similarity(a: np.array, b: np.array, centered = False) -> np.array:\n",
    "    \"\"\"\n",
    "    Vstupem jsou dva vektory a výstupem je hodnota cosinove podobnosti.\n",
    "    Přepínač: centered\n",
    "        Vypočte se Pearson Correlation, tedy centrovanou podobnost\n",
    "    \"\"\"\n",
    "    if centered:\n",
    "        a = center_vector(a)\n",
    "        b = center_vector(b)\n",
    "    #return torch.nn.functional.cosine_similarity(a, b, dim=0)\n",
    "    return sklearn.metrics.pairwise.cosine_similarity(a, b)\n",
    "    #return np.dot(a, b.T)/(np.linalg.norm(a)*np.linalg.norm(b))\n",
    "\n",
    "def collaborative_filtering(matrix : np.array, predict: tuple, k : int = 2):\n",
    "    user, product = predict\n",
    "    similarities = similarity(matrix[product,:].reshape(1,-1), matrix, centered = True).squeeze()\n",
    "    indexes = np.argsort(similarities)[::-1][1:k+1]\n",
    "\n",
    "    rating = np.sum(similarities[indexes] * matrix[indexes, user]) / np.sum(similarities[indexes])\n",
    "    return rating\n"
   ]
  },
  {
   "cell_type": "code",
   "execution_count": 131,
   "metadata": {},
   "outputs": [
    {
     "data": {
      "text/plain": [
       "2.5864068669348175"
      ]
     },
     "execution_count": 131,
     "metadata": {},
     "output_type": "execute_result"
    }
   ],
   "source": [
    "collaborative_filtering(matrix=data, predict=(4,0), k=2)"
   ]
  },
  {
   "cell_type": "markdown",
   "metadata": {},
   "source": [
    "## Bonus - Content-based Filtering\n",
    "\n",
    "Stáhněte si Kaggle dataset [Spotify Recommendation system](https://www.kaggle.com/bricevergnou/spotify-recommendation). Z datasetu budete potřebovat:\n",
    "\n",
    "- data.csv = příznaky k jednotlivým skladbám + příznak liked pro klasifikaci\n",
    "\n",
    "Úkolem je:\n",
    "\n",
    "1. Načíst data z csv.\n",
    "2. Vytvořit train (90 %) a test (10 %) split pomocí knihovny [sklearn](https://scikit-learn.org/stable/modules/generated/sklearn.model_selection.train_test_split.html).\n",
    "3. Vytvořit model logistické regrese (vlastní implementace / využití knihovny sklearn nebo jiné).\n",
    "4. Vyhodnotit data na testovací sadě (např. metoda score u LogisticRegression).\n",
    "\n",
    "**Skóre pro uznání úlohy musí být vyšší než 89 %.**\n",
    "\n",
    "Dobrovolné: vytvořit graf predikovaných vs aktuálních hodnot\n",
    "\n",
    "Získání bodu navíc: Využijte i další algoritmy pro binární klasifikaci."
   ]
  },
  {
   "cell_type": "code",
   "execution_count": null,
   "metadata": {},
   "outputs": [],
   "source": []
  }
 ],
 "metadata": {
  "kernelspec": {
   "display_name": "Python 3",
   "language": "python",
   "name": "python3"
  },
  "language_info": {
   "codemirror_mode": {
    "name": "ipython",
    "version": 3
   },
   "file_extension": ".py",
   "mimetype": "text/x-python",
   "name": "python",
   "nbconvert_exporter": "python",
   "pygments_lexer": "ipython3",
   "version": "3.10.6"
  },
  "vscode": {
   "interpreter": {
    "hash": "916dbcbb3f70747c44a77c7bcd40155683ae19c65e1c03b4aa3499c5328201f1"
   }
  }
 },
 "nbformat": 4,
 "nbformat_minor": 4
}
