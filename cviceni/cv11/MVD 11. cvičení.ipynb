{
 "cells": [
  {
   "cell_type": "markdown",
   "metadata": {},
   "source": [
    "# MVD 11. cvičení\n"
   ]
  },
  {
   "cell_type": "markdown",
   "metadata": {},
   "source": [
    "## 1. část - Collaborative Filtering (item-item)\n",
    "\n",
    "Vytvořte si matici podle příkladu v přednášce na item-item přístup na snímku 24. Využijte centered cosine similarity pro výpočet podobností stejně jako v přednášce a vyberte dva nejbližší sousedy. Ověřte, že je výsledek v přednášce správný a implementujte funkci tak, aby bylo možné jednoduše spočítat i libovolné další vyhodnocení. "
   ]
  },
  {
   "cell_type": "code",
   "execution_count": null,
   "metadata": {},
   "outputs": [],
   "source": [
    "import sys\n",
    "!{sys.executable} -m pip install numpy\n",
    "!{sys.executable} -m pip install pandas\n",
    "!{sys.executable} -m pip install torch\n",
    "!{sys.executable} -m pip install sklearn\n",
    "!{sys.executable} -m pip install lazypredict\n",
    "!{sys.executable} -m pip install matplotlib"
   ]
  },
  {
   "cell_type": "code",
   "execution_count": 66,
   "metadata": {},
   "outputs": [],
   "source": [
    "import numpy as np\n",
    "import pandas as pd\n",
    "import torch\n",
    "import sklearn\n",
    "from lazypredict.Supervised import LazyClassifier\n",
    "import matplotlib.pyplot as plt"
   ]
  },
  {
   "cell_type": "code",
   "execution_count": 12,
   "metadata": {},
   "outputs": [],
   "source": [
    "data = np.array([\n",
    "    [1,0,3,0,0,5,0,0,5,0,4,0],\n",
    "    [0,0,5,4,0,0,4,0,0,2,1,3],\n",
    "    [2,4,0,1,2,0,3,0,4,3,5,0],\n",
    "    [0,2,4,0,5,0,0,4,0,0,2,0],\n",
    "    [0,0,4,3,4,2,0,0,0,0,2,5],\n",
    "    [1,0,3,0,3,0,0,2,0,0,4,0]\n",
    "])"
   ]
  },
  {
   "cell_type": "code",
   "execution_count": 130,
   "metadata": {},
   "outputs": [],
   "source": [
    "def center_vector(vector: np.array) -> np.array:\n",
    "    \"\"\"Centrování vektoru\n",
    "    Vstupem je vektor a výstupem je centrováný vektor.\n",
    "    \"\"\"\n",
    "    mask = (vector == 0)\n",
    "    sum = np.sum(vector, axis=1) / np.count_nonzero(vector, axis=1)\n",
    "    centered = np.where(mask, 0, vector - sum[:,np.newaxis])\n",
    "    return centered\n",
    "\n",
    "def similarity(a: np.array, b: np.array, centered = False) -> np.array:\n",
    "    \"\"\"\n",
    "    Vstupem jsou dva vektory a výstupem je hodnota cosinove podobnosti.\n",
    "    Přepínač: centered\n",
    "        Vypočte se Pearson Correlation, tedy centrovanou podobnost\n",
    "    \"\"\"\n",
    "    if centered:\n",
    "        a = center_vector(a)\n",
    "        b = center_vector(b)\n",
    "    #return torch.nn.functional.cosine_similarity(a, b, dim=0)\n",
    "    return sklearn.metrics.pairwise.cosine_similarity(a, b)\n",
    "    #return np.dot(a, b.T)/(np.linalg.norm(a)*np.linalg.norm(b))\n",
    "\n",
    "def collaborative_filtering(matrix : np.array, predict: tuple, k : int = 2):\n",
    "    user, product = predict\n",
    "    similarities = similarity(matrix[product,:].reshape(1,-1), matrix, centered = True).squeeze()\n",
    "    indexes = np.argsort(similarities)[::-1][1:k+1]\n",
    "\n",
    "    rating = np.sum(similarities[indexes] * matrix[indexes, user]) / np.sum(similarities[indexes])\n",
    "    return rating\n"
   ]
  },
  {
   "cell_type": "code",
   "execution_count": 131,
   "metadata": {},
   "outputs": [
    {
     "data": {
      "text/plain": [
       "2.5864068669348175"
      ]
     },
     "execution_count": 131,
     "metadata": {},
     "output_type": "execute_result"
    }
   ],
   "source": [
    "collaborative_filtering(matrix=data, predict=(4,0), k=2)"
   ]
  },
  {
   "cell_type": "markdown",
   "metadata": {},
   "source": [
    "## Bonus - Content-based Filtering\n",
    "\n",
    "Stáhněte si Kaggle dataset [Spotify Recommendation system](https://www.kaggle.com/bricevergnou/spotify-recommendation). Z datasetu budete potřebovat:\n",
    "\n",
    "- data.csv = příznaky k jednotlivým skladbám + příznak liked pro klasifikaci\n",
    "\n",
    "Úkolem je:\n",
    "\n",
    "1. Načíst data z csv.\n",
    "2. Vytvořit train (90 %) a test (10 %) split pomocí knihovny [sklearn](https://scikit-learn.org/stable/modules/generated/sklearn.model_selection.train_test_split.html).\n",
    "3. Vytvořit model logistické regrese (vlastní implementace / využití knihovny sklearn nebo jiné).\n",
    "4. Vyhodnotit data na testovací sadě (např. metoda score u LogisticRegression).\n",
    "\n",
    "**Skóre pro uznání úlohy musí být vyšší než 89 %.**\n",
    "\n",
    "Dobrovolné: vytvořit graf predikovaných vs aktuálních hodnot\n",
    "\n",
    "Získání bodu navíc: Využijte i další algoritmy pro binární klasifikaci."
   ]
  },
  {
   "cell_type": "code",
   "execution_count": 49,
   "metadata": {},
   "outputs": [],
   "source": [
    "from sklearn.metrics import accuracy_score\n",
    "from sklearn.model_selection import train_test_split\n",
    "from sklearn.linear_model import LogisticRegression\n",
    "from sklearn.preprocessing import StandardScaler\n",
    "from sklearn.model_selection import GridSearchCV"
   ]
  },
  {
   "cell_type": "code",
   "execution_count": 13,
   "metadata": {},
   "outputs": [
    {
     "data": {
      "text/html": [
       "<div>\n",
       "<style scoped>\n",
       "    .dataframe tbody tr th:only-of-type {\n",
       "        vertical-align: middle;\n",
       "    }\n",
       "\n",
       "    .dataframe tbody tr th {\n",
       "        vertical-align: top;\n",
       "    }\n",
       "\n",
       "    .dataframe thead th {\n",
       "        text-align: right;\n",
       "    }\n",
       "</style>\n",
       "<table border=\"1\" class=\"dataframe\">\n",
       "  <thead>\n",
       "    <tr style=\"text-align: right;\">\n",
       "      <th></th>\n",
       "      <th>danceability</th>\n",
       "      <th>energy</th>\n",
       "      <th>key</th>\n",
       "      <th>loudness</th>\n",
       "      <th>mode</th>\n",
       "      <th>speechiness</th>\n",
       "      <th>acousticness</th>\n",
       "      <th>instrumentalness</th>\n",
       "      <th>liveness</th>\n",
       "      <th>valence</th>\n",
       "      <th>tempo</th>\n",
       "      <th>duration_ms</th>\n",
       "      <th>time_signature</th>\n",
       "      <th>liked</th>\n",
       "    </tr>\n",
       "  </thead>\n",
       "  <tbody>\n",
       "    <tr>\n",
       "      <th>0</th>\n",
       "      <td>0.803</td>\n",
       "      <td>0.6240</td>\n",
       "      <td>7</td>\n",
       "      <td>-6.764</td>\n",
       "      <td>0</td>\n",
       "      <td>0.0477</td>\n",
       "      <td>0.4510</td>\n",
       "      <td>0.000734</td>\n",
       "      <td>0.1000</td>\n",
       "      <td>0.6280</td>\n",
       "      <td>95.968</td>\n",
       "      <td>304524</td>\n",
       "      <td>4</td>\n",
       "      <td>0</td>\n",
       "    </tr>\n",
       "    <tr>\n",
       "      <th>1</th>\n",
       "      <td>0.762</td>\n",
       "      <td>0.7030</td>\n",
       "      <td>10</td>\n",
       "      <td>-7.951</td>\n",
       "      <td>0</td>\n",
       "      <td>0.3060</td>\n",
       "      <td>0.2060</td>\n",
       "      <td>0.000000</td>\n",
       "      <td>0.0912</td>\n",
       "      <td>0.5190</td>\n",
       "      <td>151.329</td>\n",
       "      <td>247178</td>\n",
       "      <td>4</td>\n",
       "      <td>1</td>\n",
       "    </tr>\n",
       "    <tr>\n",
       "      <th>2</th>\n",
       "      <td>0.261</td>\n",
       "      <td>0.0149</td>\n",
       "      <td>1</td>\n",
       "      <td>-27.528</td>\n",
       "      <td>1</td>\n",
       "      <td>0.0419</td>\n",
       "      <td>0.9920</td>\n",
       "      <td>0.897000</td>\n",
       "      <td>0.1020</td>\n",
       "      <td>0.0382</td>\n",
       "      <td>75.296</td>\n",
       "      <td>286987</td>\n",
       "      <td>4</td>\n",
       "      <td>0</td>\n",
       "    </tr>\n",
       "    <tr>\n",
       "      <th>3</th>\n",
       "      <td>0.722</td>\n",
       "      <td>0.7360</td>\n",
       "      <td>3</td>\n",
       "      <td>-6.994</td>\n",
       "      <td>0</td>\n",
       "      <td>0.0585</td>\n",
       "      <td>0.4310</td>\n",
       "      <td>0.000001</td>\n",
       "      <td>0.1230</td>\n",
       "      <td>0.5820</td>\n",
       "      <td>89.860</td>\n",
       "      <td>208920</td>\n",
       "      <td>4</td>\n",
       "      <td>1</td>\n",
       "    </tr>\n",
       "    <tr>\n",
       "      <th>4</th>\n",
       "      <td>0.787</td>\n",
       "      <td>0.5720</td>\n",
       "      <td>1</td>\n",
       "      <td>-7.516</td>\n",
       "      <td>1</td>\n",
       "      <td>0.2220</td>\n",
       "      <td>0.1450</td>\n",
       "      <td>0.000000</td>\n",
       "      <td>0.0753</td>\n",
       "      <td>0.6470</td>\n",
       "      <td>155.117</td>\n",
       "      <td>179413</td>\n",
       "      <td>4</td>\n",
       "      <td>1</td>\n",
       "    </tr>\n",
       "    <tr>\n",
       "      <th>...</th>\n",
       "      <td>...</td>\n",
       "      <td>...</td>\n",
       "      <td>...</td>\n",
       "      <td>...</td>\n",
       "      <td>...</td>\n",
       "      <td>...</td>\n",
       "      <td>...</td>\n",
       "      <td>...</td>\n",
       "      <td>...</td>\n",
       "      <td>...</td>\n",
       "      <td>...</td>\n",
       "      <td>...</td>\n",
       "      <td>...</td>\n",
       "      <td>...</td>\n",
       "    </tr>\n",
       "    <tr>\n",
       "      <th>190</th>\n",
       "      <td>0.166</td>\n",
       "      <td>0.0551</td>\n",
       "      <td>9</td>\n",
       "      <td>-19.494</td>\n",
       "      <td>0</td>\n",
       "      <td>0.0520</td>\n",
       "      <td>0.9760</td>\n",
       "      <td>0.635000</td>\n",
       "      <td>0.1190</td>\n",
       "      <td>0.1430</td>\n",
       "      <td>176.616</td>\n",
       "      <td>206520</td>\n",
       "      <td>3</td>\n",
       "      <td>0</td>\n",
       "    </tr>\n",
       "    <tr>\n",
       "      <th>191</th>\n",
       "      <td>0.862</td>\n",
       "      <td>0.6240</td>\n",
       "      <td>3</td>\n",
       "      <td>-11.630</td>\n",
       "      <td>1</td>\n",
       "      <td>0.0565</td>\n",
       "      <td>0.0192</td>\n",
       "      <td>0.000153</td>\n",
       "      <td>0.0465</td>\n",
       "      <td>0.8820</td>\n",
       "      <td>124.896</td>\n",
       "      <td>254240</td>\n",
       "      <td>4</td>\n",
       "      <td>0</td>\n",
       "    </tr>\n",
       "    <tr>\n",
       "      <th>192</th>\n",
       "      <td>0.499</td>\n",
       "      <td>0.3510</td>\n",
       "      <td>9</td>\n",
       "      <td>-11.509</td>\n",
       "      <td>0</td>\n",
       "      <td>0.0448</td>\n",
       "      <td>0.9510</td>\n",
       "      <td>0.000099</td>\n",
       "      <td>0.1180</td>\n",
       "      <td>0.6160</td>\n",
       "      <td>90.664</td>\n",
       "      <td>235947</td>\n",
       "      <td>4</td>\n",
       "      <td>0</td>\n",
       "    </tr>\n",
       "    <tr>\n",
       "      <th>193</th>\n",
       "      <td>0.574</td>\n",
       "      <td>0.7290</td>\n",
       "      <td>10</td>\n",
       "      <td>-5.838</td>\n",
       "      <td>0</td>\n",
       "      <td>0.0965</td>\n",
       "      <td>0.0406</td>\n",
       "      <td>0.000004</td>\n",
       "      <td>0.1940</td>\n",
       "      <td>0.4130</td>\n",
       "      <td>110.547</td>\n",
       "      <td>190239</td>\n",
       "      <td>5</td>\n",
       "      <td>1</td>\n",
       "    </tr>\n",
       "    <tr>\n",
       "      <th>194</th>\n",
       "      <td>0.747</td>\n",
       "      <td>0.6660</td>\n",
       "      <td>11</td>\n",
       "      <td>-7.845</td>\n",
       "      <td>1</td>\n",
       "      <td>0.1970</td>\n",
       "      <td>0.1300</td>\n",
       "      <td>0.000000</td>\n",
       "      <td>0.3600</td>\n",
       "      <td>0.5310</td>\n",
       "      <td>77.507</td>\n",
       "      <td>177213</td>\n",
       "      <td>4</td>\n",
       "      <td>1</td>\n",
       "    </tr>\n",
       "  </tbody>\n",
       "</table>\n",
       "<p>195 rows × 14 columns</p>\n",
       "</div>"
      ],
      "text/plain": [
       "     danceability  energy  key  loudness  mode  speechiness  acousticness  \\\n",
       "0           0.803  0.6240    7    -6.764     0       0.0477        0.4510   \n",
       "1           0.762  0.7030   10    -7.951     0       0.3060        0.2060   \n",
       "2           0.261  0.0149    1   -27.528     1       0.0419        0.9920   \n",
       "3           0.722  0.7360    3    -6.994     0       0.0585        0.4310   \n",
       "4           0.787  0.5720    1    -7.516     1       0.2220        0.1450   \n",
       "..            ...     ...  ...       ...   ...          ...           ...   \n",
       "190         0.166  0.0551    9   -19.494     0       0.0520        0.9760   \n",
       "191         0.862  0.6240    3   -11.630     1       0.0565        0.0192   \n",
       "192         0.499  0.3510    9   -11.509     0       0.0448        0.9510   \n",
       "193         0.574  0.7290   10    -5.838     0       0.0965        0.0406   \n",
       "194         0.747  0.6660   11    -7.845     1       0.1970        0.1300   \n",
       "\n",
       "     instrumentalness  liveness  valence    tempo  duration_ms  \\\n",
       "0            0.000734    0.1000   0.6280   95.968       304524   \n",
       "1            0.000000    0.0912   0.5190  151.329       247178   \n",
       "2            0.897000    0.1020   0.0382   75.296       286987   \n",
       "3            0.000001    0.1230   0.5820   89.860       208920   \n",
       "4            0.000000    0.0753   0.6470  155.117       179413   \n",
       "..                ...       ...      ...      ...          ...   \n",
       "190          0.635000    0.1190   0.1430  176.616       206520   \n",
       "191          0.000153    0.0465   0.8820  124.896       254240   \n",
       "192          0.000099    0.1180   0.6160   90.664       235947   \n",
       "193          0.000004    0.1940   0.4130  110.547       190239   \n",
       "194          0.000000    0.3600   0.5310   77.507       177213   \n",
       "\n",
       "     time_signature  liked  \n",
       "0                 4      0  \n",
       "1                 4      1  \n",
       "2                 4      0  \n",
       "3                 4      1  \n",
       "4                 4      1  \n",
       "..              ...    ...  \n",
       "190               3      0  \n",
       "191               4      0  \n",
       "192               4      0  \n",
       "193               5      1  \n",
       "194               4      1  \n",
       "\n",
       "[195 rows x 14 columns]"
      ]
     },
     "execution_count": 13,
     "metadata": {},
     "output_type": "execute_result"
    }
   ],
   "source": [
    "# načtení dat z csv souboru\n",
    "df = pd.read_csv(\"data/data.csv\", sep=\",\")\n",
    "df"
   ]
  },
  {
   "cell_type": "code",
   "execution_count": 87,
   "metadata": {},
   "outputs": [],
   "source": [
    "# filter out the feature variables\n",
    "X = df.iloc[:,:-1]\n",
    "\n",
    "# define the standard scaler to scale the values in the dataframe\n",
    "scaler = StandardScaler()\n",
    "X = scaler.fit_transform(X)\n",
    "\n",
    "# filter out the label variable\n",
    "y = df.iloc[:,-1]\n",
    "\n",
    "# splitting the dataset according to the selected test_size.\n",
    "X_train, X_test, y_train, y_test = train_test_split(X, y, test_size=0.1, random_state=42)"
   ]
  },
  {
   "cell_type": "code",
   "execution_count": 88,
   "metadata": {},
   "outputs": [
    {
     "name": "stdout",
     "output_type": "stream",
     "text": [
      "Best Parameters - {'C': 0.1, 'penalty': 'l2', 'solver': 'liblinear'}\n",
      "Best Accuracy Score - 0.9142857142857144\n"
     ]
    }
   ],
   "source": [
    "# penalty{‘l1’, ‘l2’, ‘elasticnet’, None}, default=’l2’\n",
    "# solver{‘lbfgs’, ‘liblinear’, ‘newton-cg’, ‘newton-cholesky’, ‘sag’, ‘saga’}, default=’lbfgs’\n",
    "\n",
    "lr_clf = LogisticRegression()\n",
    "param_grid_lr = {'C': [0.01, 0.1, 1, 10, 100],\n",
    "              'penalty': ['l1', 'l2', 'elasticnet', None],\n",
    "              'solver': ['liblinear', 'saga']\n",
    "            }\n",
    "\n",
    "grid_search = GridSearchCV(lr_clf, param_grid_lr, cv=5)\n",
    "grid_search.fit(X_train, y_train)\n",
    "\n",
    "print('Best Parameters -', grid_search.best_params_)\n",
    "print('Best Accuracy Score -', grid_search.best_score_)"
   ]
  },
  {
   "cell_type": "code",
   "execution_count": 89,
   "metadata": {},
   "outputs": [
    {
     "name": "stdout",
     "output_type": "stream",
     "text": [
      "Score: 0.85\n"
     ]
    }
   ],
   "source": [
    "model = LogisticRegression().fit(X_train, y_train)\n",
    "print(\"Score:\", model.score(X_test, y_test))"
   ]
  },
  {
   "cell_type": "code",
   "execution_count": 90,
   "metadata": {},
   "outputs": [
    {
     "name": "stdout",
     "output_type": "stream",
     "text": [
      "Best paramteres: {'C': 0.1, 'penalty': 'l2', 'solver': 'liblinear'}\n",
      "Score: 0.9\n"
     ]
    }
   ],
   "source": [
    "print(\"Best paramteres:\", grid_search.best_params_)\n",
    "model = LogisticRegression(**grid_search.best_params_).fit(X_train, y_train)\n",
    "print(\"Score:\", model.score(X_test, y_test))"
   ]
  },
  {
   "cell_type": "code",
   "execution_count": 92,
   "metadata": {},
   "outputs": [
    {
     "data": {
      "image/png": "[encoded data removed]",
      "text/plain": [
       "<Figure size 1000x500 with 1 Axes>"
      ]
     },
     "metadata": {},
     "output_type": "display_data"
    }
   ],
   "source": [
    "# plot test predictions vs actual values\n",
    "plt.figure(figsize=(10,5))\n",
    "plt.xlabel(\"Index\")\n",
    "plt.ylabel(\"Value\")\n",
    "plt.plot(model.predict(X_test), label=\"Predicted\")\n",
    "plt.plot(y_test.values, label=\"Actual\")\n",
    "plt.legend()\n",
    "plt.show()\n"
   ]
  },
  {
   "attachments": {},
   "cell_type": "markdown",
   "metadata": {},
   "source": [
    "### Další algoritmy pro binární klasifikaci"
   ]
  },
  {
   "cell_type": "code",
   "execution_count": 64,
   "metadata": {},
   "outputs": [
    {
     "name": "stderr",
     "output_type": "stream",
     "text": [
      "100%|██████████| 29/29 [00:01<00:00, 16.64it/s]"
     ]
    },
    {
     "name": "stdout",
     "output_type": "stream",
     "text": [
      "                               Accuracy  Balanced Accuracy  ROC AUC  F1 Score  \\\n",
      "Model                                                                           \n",
      "LGBMClassifier                     0.95               0.96     0.96      0.95   \n",
      "ExtraTreesClassifier               0.95               0.96     0.96      0.95   \n",
      "LabelSpreading                     0.95               0.96     0.96      0.95   \n",
      "LabelPropagation                   0.95               0.96     0.96      0.95   \n",
      "BaggingClassifier                  0.90               0.92     0.92      0.90   \n",
      "RandomForestClassifier             0.90               0.92     0.92      0.90   \n",
      "NuSVC                              0.90               0.92     0.92      0.90   \n",
      "SGDClassifier                      0.90               0.92     0.92      0.90   \n",
      "SVC                                0.90               0.92     0.92      0.90   \n",
      "XGBClassifier                      0.90               0.92     0.92      0.90   \n",
      "BernoulliNB                        0.90               0.92     0.92      0.90   \n",
      "RidgeClassifierCV                  0.90               0.90     0.90      0.90   \n",
      "LinearDiscriminantAnalysis         0.90               0.90     0.90      0.90   \n",
      "NearestCentroid                    0.90               0.90     0.90      0.90   \n",
      "RidgeClassifier                    0.90               0.90     0.90      0.90   \n",
      "PassiveAggressiveClassifier        0.85               0.88     0.88      0.85   \n",
      "QuadraticDiscriminantAnalysis      0.90               0.88     0.88      0.90   \n",
      "LinearSVC                          0.85               0.85     0.85      0.85   \n",
      "LogisticRegression                 0.85               0.85     0.85      0.85   \n",
      "CalibratedClassifierCV             0.85               0.85     0.85      0.85   \n",
      "ExtraTreeClassifier                0.80               0.83     0.83      0.80   \n",
      "DecisionTreeClassifier             0.80               0.83     0.83      0.80   \n",
      "Perceptron                         0.80               0.81     0.81      0.80   \n",
      "KNeighborsClassifier               0.80               0.81     0.81      0.80   \n",
      "GaussianNB                         0.85               0.81     0.81      0.84   \n",
      "AdaBoostClassifier                 0.80               0.81     0.81      0.80   \n",
      "DummyClassifier                    0.60               0.50     0.50      0.45   \n",
      "\n",
      "                               Time Taken  \n",
      "Model                                      \n",
      "LGBMClassifier                       0.08  \n",
      "ExtraTreesClassifier                 0.16  \n",
      "LabelSpreading                       0.01  \n",
      "LabelPropagation                     0.01  \n",
      "BaggingClassifier                    0.05  \n",
      "RandomForestClassifier               0.20  \n",
      "NuSVC                                0.02  \n",
      "SGDClassifier                        0.01  \n",
      "SVC                                  0.02  \n",
      "XGBClassifier                        0.74  \n",
      "BernoulliNB                          0.01  \n",
      "RidgeClassifierCV                    0.01  \n",
      "LinearDiscriminantAnalysis           0.02  \n",
      "NearestCentroid                      0.01  \n",
      "RidgeClassifier                      0.02  \n",
      "PassiveAggressiveClassifier          0.02  \n",
      "QuadraticDiscriminantAnalysis        0.02  \n",
      "LinearSVC                            0.01  \n",
      "LogisticRegression                   0.02  \n",
      "CalibratedClassifierCV               0.04  \n",
      "ExtraTreeClassifier                  0.01  \n",
      "DecisionTreeClassifier               0.01  \n",
      "Perceptron                           0.01  \n",
      "KNeighborsClassifier                 0.03  \n",
      "GaussianNB                           0.01  \n",
      "AdaBoostClassifier                   0.15  \n",
      "DummyClassifier                      0.01  \n"
     ]
    },
    {
     "name": "stderr",
     "output_type": "stream",
     "text": [
      "\n"
     ]
    }
   ],
   "source": [
    "clf = LazyClassifier(verbose=0,ignore_warnings=True, custom_metric=None)\n",
    "models, predictions = clf.fit(X_train, X_test, y_train, y_test)\n",
    "\n",
    "print(models)"
   ]
  }
 ],
 "metadata": {
  "kernelspec": {
   "display_name": "Python 3",
   "language": "python",
   "name": "python3"
  },
  "language_info": {
   "codemirror_mode": {
    "name": "ipython",
    "version": 3
   },
   "file_extension": ".py",
   "mimetype": "text/x-python",
   "name": "python",
   "nbconvert_exporter": "python",
   "pygments_lexer": "ipython3",
   "version": "3.10.9"
  },
  "vscode": {
   "interpreter": {
    "hash": "7b1f2b33e866b0bf2409397e5f58ba9cdf170d3b7f64c8f359c79998e2f88ad4"
   }
  }
 },
 "nbformat": 4,
 "nbformat_minor": 4
}
