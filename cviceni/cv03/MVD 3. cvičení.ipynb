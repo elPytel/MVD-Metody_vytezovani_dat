{
 "cells": [
  {
   "cell_type": "markdown",
   "metadata": {},
   "source": [
    "# MVD 3. cvičení\n",
    "\n",
    "## 1. část - Stažení a načtení předtrénovaných GloVe slovních reprezentací\n",
    "\n",
    "\n",
    "### Stažení dat\n",
    "\n",
    "Pro toto cvičení můžete používat předtrénované Word2Vec nebo GloVe vektory. Následující text se vztahuje ke GloVe vektorům, které byly vybrány z důvodu menší velikosti. \n",
    "\n",
    "Základní verzi vektorů lze stáhnout [zde (GloVe link)](https://huggingface.co/stanfordnlp/glove/resolve/main/glove.6B.zip).\n",
    "\n",
    "Wikipedia 2014 + Gigaword 5 (6B tokens, 400K vocab, uncased, 300d vectors, 822 MB download)\n",
    "\n",
    "Po rozbalení staženého archivu budete mít několik verzí o různé dimenzi vektorů - 50d, 100d, 200d, 300d. Je doporučeno začít pracovat s nejmenšími vektory a na větších spouštět až závěrečné řešení.\n",
    "\n",
    "### Načtení dat\n",
    "\n",
    "Data jsou uložena v textovém souboru, kde je na každém řádku slovo a jeho příslušný vektor.\n",
    "\n",
    "Načtení je vhodné provést do dvou proměnných -> words, vectors. Words bude list o délce *n* a vectors bude matice o velikosti *(n, d)*. \n",
    "\n",
    "Zároveň vytvořte slovník word2idx, pomocí kterého lze získat index libovolného slova (pomocí *word2idx['queen']*)."
   ]
  },
  {
   "cell_type": "code",
   "execution_count": 1,
   "metadata": {},
   "outputs": [],
   "source": [
    "import numpy as np"
   ]
  },
  {
   "cell_type": "code",
   "execution_count": 2,
   "metadata": {},
   "outputs": [],
   "source": [
    "DEBUG = True\n",
    "\n",
    "SIZES = [50, 100, 200, 300]\n",
    "DIRECTORY = \"data\"\n",
    "FILE_NAME = \"glove.6B.\"\n",
    "path = DIRECTORY + \"/\" + FILE_NAME + str(SIZES[0]) + \"d.txt\""
   ]
  },
  {
   "cell_type": "code",
   "execution_count": 3,
   "metadata": {},
   "outputs": [],
   "source": [
    "def load_data(file_name):\n",
    "    word2idx = {}\n",
    "    words = []\n",
    "    vectors = []\n",
    "    with open(file_name, \"r\") as file:\n",
    "        for i, line in enumerate(file.readlines()):\n",
    "            key, *values = line.strip().split(\" \")\n",
    "            vector = np.array([float(number) for number in values])\n",
    "            words.append(key)\n",
    "            vectors.append(vector)\n",
    "            word2idx[key] = i\n",
    "            if 0 and DEBUG:\n",
    "                print(key)\n",
    "                print(vector)\n",
    "        \n",
    "    return np.array(words), np.array(vectors), word2idx\n"
   ]
  },
  {
   "cell_type": "code",
   "execution_count": 4,
   "metadata": {},
   "outputs": [],
   "source": [
    "# Load data\n",
    "words, vectors, word2idx = load_data(path)"
   ]
  },
  {
   "cell_type": "code",
   "execution_count": 5,
   "metadata": {},
   "outputs": [
    {
     "name": "stdout",
     "output_type": "stream",
     "text": [
      "word: king\n",
      "vec: [ 0.50451   0.68607  -0.59517  -0.022801  0.60046  -0.13498  -0.08813\n",
      "  0.47377  -0.61798  -0.31012  -0.076666  1.493    -0.034189 -0.98173\n",
      "  0.68229   0.81722  -0.51874  -0.31503  -0.55809   0.66421   0.1961\n",
      " -0.13495  -0.11476  -0.30344   0.41177  -2.223    -1.0756   -1.0783\n",
      " -0.34354   0.33505   1.9927   -0.04234  -0.64319   0.71125   0.49159\n",
      "  0.16754   0.34344  -0.25663  -0.8523    0.1661    0.40102   1.1685\n",
      " -1.0137   -0.21585  -0.15155   0.78321  -0.91241  -1.6106   -0.64426\n",
      " -0.51042 ]\n"
     ]
    }
   ],
   "source": [
    "word = \"king\"\n",
    "print(\"word:\", word)\n",
    "print(\"vec:\", vectors[word2idx[word]])"
   ]
  },
  {
   "cell_type": "markdown",
   "metadata": {},
   "source": [
    "## 2. část - Kosinová podobnost\n",
    "\n",
    "Vytvořte funkci cossim, která bude vracet kosinovu podobnost dvou vstupních vektorů.\n",
    "\n",
    "<br>\n",
    "<center>\n",
    "$\n",
    "similarity(a,b) = cos(\\theta) = \\frac{a \\cdot b}{\\lVert a \\lVert \\lVert b \\lVert}\n",
    "$\n",
    "</center>"
   ]
  },
  {
   "cell_type": "code",
   "execution_count": 6,
   "metadata": {},
   "outputs": [],
   "source": [
    "def similarity(w1, w2):\n",
    "    if len(w1.shape) < 2:\n",
    "        w1 = w1.reshape(1, -1)\n",
    "    return (np.dot(w1, w2)) / (np.linalg.norm(w1, axis=1) * np.linalg.norm(w2))"
   ]
  },
  {
   "cell_type": "code",
   "execution_count": 11,
   "metadata": {},
   "outputs": [
    {
     "name": "stdout",
     "output_type": "stream",
     "text": [
      "[0.7839043]\n",
      "[0.7821861]\n",
      "\n",
      "[0.7839043 0.7821861]\n"
     ]
    }
   ],
   "source": [
    "king = vectors[word2idx[\"king\"]]\n",
    "queen = vectors[word2idx[\"queen\"]]\n",
    "prince = vectors[word2idx[\"prince\"]]\n",
    "print(similarity(king, queen))\n",
    "print(similarity(prince, queen))\n",
    "print()\n",
    "array = np.array([king, prince])\n",
    "print(similarity(array, queen))\n"
   ]
  },
  {
   "cell_type": "markdown",
   "metadata": {},
   "source": [
    "## 3. část - Slovní analogie\n",
    "\n",
    "Nejznámější slovní analogií je z Word2Vec $f(\"king\") - f(\"man\") = f(\"queen\") - f(\"woman\")$\n",
    "\n",
    "1. Vytvořte skript pro hledání analogií $f(\"king\") - f(\"man\") = f(\"??\") - f(\"woman\")$ a vyzkoušejte i nějaké další.\n",
    "2. Vypište 5 nejpodobnějších slov"
   ]
  },
  {
   "cell_type": "code",
   "execution_count": 8,
   "metadata": {},
   "outputs": [
    {
     "name": "stdout",
     "output_type": "stream",
     "text": [
      "[0.7839043]\n",
      "[0.88603377]\n",
      "\n",
      "[0.53093769]\n",
      "[0.60031058]\n"
     ]
    }
   ],
   "source": [
    "print(similarity(vectors[word2idx[\"king\"]], vectors[word2idx[\"queen\"]]))\n",
    "print(similarity(vectors[word2idx[\"man\"]], vectors[word2idx[\"woman\"]]))\n",
    "print()\n",
    "print(similarity(vectors[word2idx[\"king\"]], vectors[word2idx[\"man\"]]))\n",
    "print(similarity(vectors[word2idx[\"queen\"]], vectors[word2idx[\"woman\"]]))"
   ]
  },
  {
   "cell_type": "code",
   "execution_count": 9,
   "metadata": {},
   "outputs": [],
   "source": [
    "def find_close_words(word, n=5):\n",
    "    distances = similarity(vectors, word)\n",
    "    indexes = np.argsort(distances)[::-1]\n",
    "    return words[indexes[1:n+1]]\n",
    "\n",
    "def closest_words(a, b, c):\n",
    "    dist = vectors[word2idx[b]] - vectors[word2idx[a]]\n",
    "    new = vectors[word2idx[c]] + dist\n",
    "    return find_close_words(new)"
   ]
  },
  {
   "cell_type": "code",
   "execution_count": 10,
   "metadata": {},
   "outputs": [
    {
     "name": "stdout",
     "output_type": "stream",
     "text": [
      "['girl' 'man' 'her' 'boy' 'she']\n",
      "['queen' 'daughter' 'prince' 'throne' 'princess']\n",
      "['grandpa' 'mommy' 'mom' 'daddy' 'aunt']\n",
      "['engine' 'plane' '747' 'jet' 'spacecraft']\n",
      "['tail' 'rudder' 'takeoff' 'landing' 'orbit']\n",
      "['soldier' 'blade' 'bullet' 'shoots' 'bulldozer']\n",
      "['cardiff' 'edinburgh' 'nottingham' 'birmingham' 'leeds']\n",
      "['rifle' 'weapon' 'handgun' 'caliber' 'guns']\n",
      "['puck' 'throws' 'throw' 'pass' 'hook']\n",
      "['cassini' 'astronaut' 'spacecraft' 'orbiter' 'gemini']\n",
      "['racer' 'teen' 'motorcycle' 'car' 'rider']\n",
      "['plane' 'rider' 'stewardess' 'savicevic' 'star']\n",
      "['sideways' 'stuck' 'blown' 'plane' 'windshield']\n",
      "['drives' 'wheels' 'windshield' 'fix' 'bump']\n",
      "['hard' 'somebody' 'thing' \"'m\" 'looks']\n",
      "['exploding' 'rocket' 'flare' 'blasting' 'projectiles']\n",
      "['building' 'floor' 'brick' 'wall' 'crumbling']\n"
     ]
    }
   ],
   "source": [
    "print(closest_words(\"king\",\"man\",\"queen\"))\n",
    "print(closest_words(\"man\",\"king\",\"woman\"))\n",
    "print(closest_words(\"father\",\"mother\",\"grandpa\"))\n",
    "print(closest_words(\"car\",\"engine\",\"plane\"))\n",
    "print(closest_words(\"car\",\"wheel\",\"plane\"))\n",
    "print(closest_words(\"knight\",\"blade\",\"soldier\"))\n",
    "print(closest_words(\"czech\",\"prague\",\"england\"))\n",
    "print(closest_words(\"bow\",\"arrow\",\"gun\"))\n",
    "print(closest_words(\"soccer\",\"ball\",\"hockey\"))\n",
    "print(closest_words(\"ship\",\"sailor\",\"spacecraft\"))\n",
    "print(closest_words(\"ship\",\"sailor\",\"car\"))\n",
    "print(closest_words(\"ship\",\"sailor\",\"plane\"))\n",
    "print(closest_words(\"ship\",\"sink\",\"plane\"))\n",
    "print(closest_words(\"ship\",\"sink\",\"car\"))\n",
    "print(closest_words(\"ship\",\"sink\",\"man\"))\n",
    "print(closest_words(\"ship\",\"sink\",\"rocket\"))\n",
    "print(closest_words(\"ship\",\"sink\",\"building\"))\n"
   ]
  },
  {
   "cell_type": "markdown",
   "metadata": {},
   "source": [
    "### Bonus - Vytvořte vizualizaci slovních analogií\n",
    "\n",
    "Pro získání bonusového bodu je potřeba vytvořit vizualizaci slovních analogií (redukce dimenze + vizualizace)."
   ]
  },
  {
   "cell_type": "code",
   "execution_count": null,
   "metadata": {},
   "outputs": [],
   "source": [
    "# pca, či tsne pro redukci dimenze"
   ]
  }
 ],
 "metadata": {
  "kernelspec": {
   "display_name": "Python 3.10.6 64-bit",
   "language": "python",
   "name": "python3"
  },
  "language_info": {
   "codemirror_mode": {
    "name": "ipython",
    "version": 3
   },
   "file_extension": ".py",
   "mimetype": "text/x-python",
   "name": "python",
   "nbconvert_exporter": "python",
   "pygments_lexer": "ipython3",
   "version": "3.10.6 (main, Aug 10 2022, 11:40:04) [GCC 11.3.0]"
  },
  "vscode": {
   "interpreter": {
    "hash": "916dbcbb3f70747c44a77c7bcd40155683ae19c65e1c03b4aa3499c5328201f1"
   }
  }
 },
 "nbformat": 4,
 "nbformat_minor": 4
}
