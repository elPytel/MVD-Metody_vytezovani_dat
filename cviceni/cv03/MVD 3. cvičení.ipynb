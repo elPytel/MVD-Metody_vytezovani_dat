{
 "cells": [
  {
   "cell_type": "markdown",
   "metadata": {},
   "source": [
    "# MVD 3. cvičení\n",
    "\n",
    "## 1. část - Stažení a načtení předtrénovaných GloVe slovních reprezentací\n",
    "\n",
    "\n",
    "### Stažení dat\n",
    "\n",
    "Pro toto cvičení můžete používat předtrénované Word2Vec nebo GloVe vektory. Následující text se vztahuje ke GloVe vektorům, které byly vybrány z důvodu menší velikosti. \n",
    "\n",
    "Základní verzi vektorů lze stáhnout [zde (GloVe link)](https://huggingface.co/stanfordnlp/glove/resolve/main/glove.6B.zip).\n",
    "\n",
    "Wikipedia 2014 + Gigaword 5 (6B tokens, 400K vocab, uncased, 300d vectors, 822 MB download)\n",
    "\n",
    "Po rozbalení staženého archivu budete mít několik verzí o různé dimenzi vektorů - 50d, 100d, 200d, 300d. Je doporučeno začít pracovat s nejmenšími vektory a na větších spouštět až závěrečné řešení.\n",
    "\n",
    "### Načtení dat\n",
    "\n",
    "Data jsou uložena v textovém souboru, kde je na každém řádku slovo a jeho příslušný vektor.\n",
    "\n",
    "Načtení je vhodné provést do dvou proměnných -> words, vectors. Words bude list o délce *n* a vectors bude matice o velikosti *(n, d)*. \n",
    "\n",
    "Zároveň vytvořte slovník word2idx, pomocí kterého lze získat index libovolného slova (pomocí *word2idx['queen']*)."
   ]
  },
  {
   "cell_type": "code",
   "execution_count": 2,
   "metadata": {},
   "outputs": [],
   "source": [
    "import numpy as np\n",
    "import plotly.express as px\n",
    "import matplotlib.pyplot as plt\n",
    "from sklearn.manifold import TSNE"
   ]
  },
  {
   "cell_type": "code",
   "execution_count": 3,
   "metadata": {},
   "outputs": [],
   "source": [
    "DEBUG = True\n",
    "\n",
    "SIZES = [50, 100, 200, 300]\n",
    "DIRECTORY = \"data\"\n",
    "FILE_NAME = \"glove.6B.\"\n",
    "path = DIRECTORY + \"/\" + FILE_NAME + str(SIZES[0]) + \"d.txt\""
   ]
  },
  {
   "cell_type": "code",
   "execution_count": 4,
   "metadata": {},
   "outputs": [],
   "source": [
    "def load_data(file_name):\n",
    "    word2idx = {}\n",
    "    words = []\n",
    "    vectors = []\n",
    "    with open(file_name, \"r\") as file:\n",
    "        for i, line in enumerate(file.readlines()):\n",
    "            key, *values = line.strip().split(\" \")\n",
    "            vector = np.array([float(number) for number in values])\n",
    "            words.append(key)\n",
    "            vectors.append(vector)\n",
    "            word2idx[key] = i\n",
    "            if 0 and DEBUG:\n",
    "                print(key)\n",
    "                print(vector)\n",
    "        \n",
    "    return np.array(words), np.array(vectors), word2idx\n"
   ]
  },
  {
   "cell_type": "code",
   "execution_count": 5,
   "metadata": {},
   "outputs": [],
   "source": [
    "# Load data\n",
    "words, vectors, word2idx = load_data(path)"
   ]
  },
  {
   "cell_type": "code",
   "execution_count": 6,
   "metadata": {},
   "outputs": [
    {
     "name": "stdout",
     "output_type": "stream",
     "text": [
      "word: king\n",
      "vec: [ 0.50451   0.68607  -0.59517  -0.022801  0.60046  -0.13498  -0.08813\n",
      "  0.47377  -0.61798  -0.31012  -0.076666  1.493    -0.034189 -0.98173\n",
      "  0.68229   0.81722  -0.51874  -0.31503  -0.55809   0.66421   0.1961\n",
      " -0.13495  -0.11476  -0.30344   0.41177  -2.223    -1.0756   -1.0783\n",
      " -0.34354   0.33505   1.9927   -0.04234  -0.64319   0.71125   0.49159\n",
      "  0.16754   0.34344  -0.25663  -0.8523    0.1661    0.40102   1.1685\n",
      " -1.0137   -0.21585  -0.15155   0.78321  -0.91241  -1.6106   -0.64426\n",
      " -0.51042 ]\n"
     ]
    }
   ],
   "source": [
    "word = \"king\"\n",
    "print(\"word:\", word)\n",
    "print(\"vec:\", vectors[word2idx[word]])"
   ]
  },
  {
   "cell_type": "markdown",
   "metadata": {},
   "source": [
    "## 2. část - Kosinová podobnost\n",
    "\n",
    "Vytvořte funkci cossim, která bude vracet kosinovu podobnost dvou vstupních vektorů.\n",
    "\n",
    "\n",
    "$$ similarity(a,b) = cos(\\theta) = \\frac{a \\cdot b}{\\lVert a \\lVert \\lVert b \\lVert} $$"
   ]
  },
  {
   "cell_type": "code",
   "execution_count": 7,
   "metadata": {},
   "outputs": [],
   "source": [
    "def similarity(w1, w2):\n",
    "    if len(w1.shape) < 2:\n",
    "        w1 = w1.reshape(1, -1)\n",
    "    return (np.dot(w1, w2)) / (np.linalg.norm(w1, axis=1) * np.linalg.norm(w2))"
   ]
  },
  {
   "cell_type": "code",
   "execution_count": 13,
   "metadata": {},
   "outputs": [
    {
     "name": "stdout",
     "output_type": "stream",
     "text": [
      "[0.7839043]\n",
      "[0.7821861]\n",
      "\n",
      "[0.7839043 0.7821861]\n"
     ]
    }
   ],
   "source": [
    "king = vectors[word2idx[\"king\"]]\n",
    "queen = vectors[word2idx[\"queen\"]]\n",
    "prince = vectors[word2idx[\"prince\"]]\n",
    "print(similarity(king, queen))\n",
    "print(similarity(prince, queen))\n",
    "print()\n",
    "array = np.array([king, prince])\n",
    "print(similarity(array, queen))\n"
   ]
  },
  {
   "cell_type": "markdown",
   "metadata": {},
   "source": [
    "## 3. část - Slovní analogie\n",
    "\n",
    "Nejznámější slovní analogií je z Word2Vec $f(\"king\") - f(\"man\") = f(\"queen\") - f(\"woman\")$\n",
    "\n",
    "1. Vytvořte skript pro hledání analogií $f(\"king\") - f(\"man\") = f(\"??\") - f(\"woman\")$ a vyzkoušejte i nějaké další.\n",
    "2. Vypište 5 nejpodobnějších slov"
   ]
  },
  {
   "cell_type": "code",
   "execution_count": 8,
   "metadata": {},
   "outputs": [
    {
     "name": "stdout",
     "output_type": "stream",
     "text": [
      "[0.7839043]\n",
      "[0.88603377]\n",
      "\n",
      "[0.53093769]\n",
      "[0.60031058]\n"
     ]
    }
   ],
   "source": [
    "print(similarity(vectors[word2idx[\"king\"]], vectors[word2idx[\"queen\"]]))\n",
    "print(similarity(vectors[word2idx[\"man\"]], vectors[word2idx[\"woman\"]]))\n",
    "print()\n",
    "print(similarity(vectors[word2idx[\"king\"]], vectors[word2idx[\"man\"]]))\n",
    "print(similarity(vectors[word2idx[\"queen\"]], vectors[word2idx[\"woman\"]]))"
   ]
  },
  {
   "cell_type": "code",
   "execution_count": 8,
   "metadata": {},
   "outputs": [],
   "source": [
    "def find_close_words(word, n=5):\n",
    "    distances = similarity(vectors, word)\n",
    "    indexes = np.argsort(distances)[::-1]\n",
    "    return words[indexes[1:n+1]]\n",
    "\n",
    "def closest_words(a, b, c):\n",
    "    dist = vectors[word2idx[b]] - vectors[word2idx[a]]\n",
    "    new = vectors[word2idx[c]] + dist\n",
    "    return find_close_words(new)"
   ]
  },
  {
   "cell_type": "code",
   "execution_count": 9,
   "metadata": {},
   "outputs": [
    {
     "name": "stdout",
     "output_type": "stream",
     "text": [
      "['girl' 'man' 'her' 'boy' 'she']\n",
      "['queen' 'daughter' 'prince' 'throne' 'princess']\n",
      "['grandpa' 'mommy' 'mom' 'daddy' 'aunt']\n",
      "['engine' 'plane' '747' 'jet' 'spacecraft']\n",
      "['tail' 'rudder' 'takeoff' 'landing' 'orbit']\n",
      "['soldier' 'blade' 'bullet' 'shoots' 'bulldozer']\n",
      "['cardiff' 'edinburgh' 'nottingham' 'birmingham' 'leeds']\n",
      "['rifle' 'weapon' 'handgun' 'caliber' 'guns']\n",
      "['puck' 'throws' 'throw' 'pass' 'hook']\n",
      "['cassini' 'astronaut' 'spacecraft' 'orbiter' 'gemini']\n",
      "['racer' 'teen' 'motorcycle' 'car' 'rider']\n",
      "['plane' 'rider' 'stewardess' 'savicevic' 'star']\n",
      "['sideways' 'stuck' 'blown' 'plane' 'windshield']\n",
      "['drives' 'wheels' 'windshield' 'fix' 'bump']\n",
      "['hard' 'somebody' 'thing' \"'m\" 'looks']\n",
      "['exploding' 'rocket' 'flare' 'blasting' 'projectiles']\n",
      "['building' 'floor' 'brick' 'wall' 'crumbling']\n",
      "['slower' 'slow' 'quicker' 'slowing' 'accelerated']\n"
     ]
    }
   ],
   "source": [
    "print(closest_words(\"king\",\"man\",\"queen\"))\n",
    "print(closest_words(\"man\",\"king\",\"woman\"))\n",
    "print(closest_words(\"father\",\"mother\",\"grandpa\"))\n",
    "print(closest_words(\"car\",\"engine\",\"plane\"))\n",
    "print(closest_words(\"car\",\"wheel\",\"plane\"))\n",
    "print(closest_words(\"knight\",\"blade\",\"soldier\"))\n",
    "print(closest_words(\"czech\",\"prague\",\"england\"))\n",
    "print(closest_words(\"bow\",\"arrow\",\"gun\"))\n",
    "print(closest_words(\"soccer\",\"ball\",\"hockey\"))\n",
    "print(closest_words(\"ship\",\"sailor\",\"spacecraft\"))\n",
    "print(closest_words(\"ship\",\"sailor\",\"car\"))\n",
    "print(closest_words(\"ship\",\"sailor\",\"plane\"))\n",
    "print(closest_words(\"ship\",\"sink\",\"plane\"))\n",
    "print(closest_words(\"ship\",\"sink\",\"car\"))\n",
    "print(closest_words(\"ship\",\"sink\",\"man\"))\n",
    "print(closest_words(\"ship\",\"sink\",\"rocket\"))\n",
    "print(closest_words(\"ship\",\"sink\",\"building\"))\n",
    "print(closest_words(\"fast\",\"faster\",\"slow\"))\n"
   ]
  },
  {
   "cell_type": "markdown",
   "metadata": {},
   "source": [
    "### Bonus - Vytvořte vizualizaci slovních analogií\n",
    "\n",
    "Pro získání bonusového bodu je potřeba vytvořit vizualizaci slovních analogií (redukce dimenze + vizualizace)."
   ]
  },
  {
   "cell_type": "code",
   "execution_count": 32,
   "metadata": {},
   "outputs": [],
   "source": [
    "a1 = np.array([\"woman\" for x in range(5)])\n",
    "a2 = np.array([\"plane\" for x in range(5)])\n",
    "a3 = np.array([\"gun\" for x in range(5)])\n",
    "a4 = np.array([\"spacecraft\" for x in range(5)])\n",
    "w5 = np.array([\"england\" for x in range(5)])\n",
    "w6 = np.array([\"slow\" for x in range(5)])\n",
    "y = np.concatenate((a1,a2,a3,a4,w5,w6), axis=0)\n",
    "#print(y)"
   ]
  },
  {
   "cell_type": "code",
   "execution_count": 33,
   "metadata": {},
   "outputs": [],
   "source": [
    "keys = [\n",
    "    'girl', 'man', 'her', 'boy', 'she',\n",
    "    'engine', 'plane', '747', 'jet', 'spacecraft', \n",
    "    'rifle', 'weapon', 'handgun', 'caliber', 'guns',\n",
    "    'cassini', 'astronaut', 'spacecraft', 'orbiter', 'gemini',\n",
    "    'cardiff', 'edinburgh', 'nottingham', 'birmingham', 'leeds',\n",
    "    'slower', 'slow', 'quicker', 'slowing', 'accelerated'\n",
    "]\n",
    "vec = np.empty([len(y),vectors.shape[1]])\n",
    "for i, key in enumerate(keys):\n",
    "    vec[i] = vectors[word2idx[key]]"
   ]
  },
  {
   "cell_type": "code",
   "execution_count": 43,
   "metadata": {},
   "outputs": [
    {
     "name": "stderr",
     "output_type": "stream",
     "text": [
      "/home/pytel/.local/lib/python3.10/site-packages/sklearn/manifold/_t_sne.py:800: FutureWarning:\n",
      "\n",
      "The default initialization in TSNE will change from 'random' to 'pca' in 1.2.\n",
      "\n",
      "/home/pytel/.local/lib/python3.10/site-packages/sklearn/manifold/_t_sne.py:810: FutureWarning:\n",
      "\n",
      "The default learning rate in TSNE will change from 200.0 to 'auto' in 1.2.\n",
      "\n"
     ]
    },
    {
     "data": {
      "application/vnd.plotly.v1+json": {
       "config": {
        "plotlyServerURL": "https://plot.ly"
       },
       "data": [
        {
         "hovertemplate": "color=word: woman<br>x=%{x}<br>index=%{y}<br>text=%{text}<extra></extra>",
         "legendgroup": "word: woman",
         "marker": {
          "color": "#636efa",
          "symbol": "circle"
         },
         "mode": "markers+text",
         "name": "word: woman",
         "orientation": "h",
         "showlegend": true,
         "text": [
          "girl",
          "man",
          "her",
          "boy",
          "she"
         ],
         "type": "scatter",
         "x": [
          -276.9054870605469,
          -237.7635040283203,
          -241.940673828125,
          -260.068359375,
          -264.4845886230469
         ],
         "xaxis": "x",
         "y": [
          0,
          1,
          2,
          3,
          4
         ],
         "yaxis": "y"
        },
        {
         "hovertemplate": "color=word: plane<br>x=%{x}<br>index=%{y}<br>text=%{text}<extra></extra>",
         "legendgroup": "word: plane",
         "marker": {
          "color": "#EF553B",
          "symbol": "circle"
         },
         "mode": "markers+text",
         "name": "word: plane",
         "orientation": "h",
         "showlegend": true,
         "text": [
          "engine",
          "plane",
          "747",
          "jet",
          "spacecraft"
         ],
         "type": "scatter",
         "x": [
          116.94014739990234,
          90.59481811523438,
          75.01619720458984,
          98.47517395019531,
          89.69113159179688
         ],
         "xaxis": "x",
         "y": [
          5,
          6,
          7,
          8,
          9
         ],
         "yaxis": "y"
        },
        {
         "hovertemplate": "color=word: gun<br>x=%{x}<br>index=%{y}<br>text=%{text}<extra></extra>",
         "legendgroup": "word: gun",
         "marker": {
          "color": "#00cc96",
          "symbol": "circle"
         },
         "mode": "markers+text",
         "name": "word: gun",
         "orientation": "h",
         "showlegend": true,
         "text": [
          "rifle",
          "weapon",
          "handgun",
          "caliber",
          "guns"
         ],
         "type": "scatter",
         "x": [
          -243.1508026123047,
          -215.6697540283203,
          -211.3080291748047,
          -218.3994598388672,
          -240.5675048828125
         ],
         "xaxis": "x",
         "y": [
          10,
          11,
          12,
          13,
          14
         ],
         "yaxis": "y"
        },
        {
         "hovertemplate": "color=word: spacecraft<br>x=%{x}<br>index=%{y}<br>text=%{text}<extra></extra>",
         "legendgroup": "word: spacecraft",
         "marker": {
          "color": "#ab63fa",
          "symbol": "circle"
         },
         "mode": "markers+text",
         "name": "word: spacecraft",
         "orientation": "h",
         "showlegend": true,
         "text": [
          "cassini",
          "astronaut",
          "spacecraft",
          "orbiter",
          "gemini"
         ],
         "type": "scatter",
         "x": [
          105.04173278808594,
          141.34898376464844,
          107.21076965332031,
          81.65492248535156,
          65.78573608398438
         ],
         "xaxis": "x",
         "y": [
          15,
          16,
          17,
          18,
          19
         ],
         "yaxis": "y"
        },
        {
         "hovertemplate": "color=word: england<br>x=%{x}<br>index=%{y}<br>text=%{text}<extra></extra>",
         "legendgroup": "word: england",
         "marker": {
          "color": "#FFA15A",
          "symbol": "circle"
         },
         "mode": "markers+text",
         "name": "word: england",
         "orientation": "h",
         "showlegend": true,
         "text": [
          "cardiff",
          "edinburgh",
          "nottingham",
          "birmingham",
          "leeds"
         ],
         "type": "scatter",
         "x": [
          -76.58965301513672,
          -124.66968536376953,
          -106.61597442626953,
          -96.71363830566406,
          -89.01972198486328
         ],
         "xaxis": "x",
         "y": [
          20,
          21,
          22,
          23,
          24
         ],
         "yaxis": "y"
        },
        {
         "hovertemplate": "color=word: slow<br>x=%{x}<br>index=%{y}<br>text=%{text}<extra></extra>",
         "legendgroup": "word: slow",
         "marker": {
          "color": "#19d3f3",
          "symbol": "circle"
         },
         "mode": "markers+text",
         "name": "word: slow",
         "orientation": "h",
         "showlegend": true,
         "text": [
          "slower",
          "slow",
          "quicker",
          "slowing",
          "accelerated"
         ],
         "type": "scatter",
         "x": [
          291.6904602050781,
          318.5650939941406,
          314.4216613769531,
          275.2721252441406,
          299.0264892578125
         ],
         "xaxis": "x",
         "y": [
          25,
          26,
          27,
          28,
          29
         ],
         "yaxis": "y"
        }
       ],
       "layout": {
        "coloraxis": {
         "showscale": false
        },
        "legend": {
         "title": {
          "text": "color"
         },
         "tracegroupgap": 0
        },
        "margin": {
         "t": 60
        },
        "template": {
         "data": {
          "bar": [
           {
            "error_x": {
             "color": "#2a3f5f"
            },
            "error_y": {
             "color": "#2a3f5f"
            },
            "marker": {
             "line": {
              "color": "#E5ECF6",
              "width": 0.5
             },
             "pattern": {
              "fillmode": "overlay",
              "size": 10,
              "solidity": 0.2
             }
            },
            "type": "bar"
           }
          ],
          "barpolar": [
           {
            "marker": {
             "line": {
              "color": "#E5ECF6",
              "width": 0.5
             },
             "pattern": {
              "fillmode": "overlay",
              "size": 10,
              "solidity": 0.2
             }
            },
            "type": "barpolar"
           }
          ],
          "carpet": [
           {
            "aaxis": {
             "endlinecolor": "#2a3f5f",
             "gridcolor": "white",
             "linecolor": "white",
             "minorgridcolor": "white",
             "startlinecolor": "#2a3f5f"
            },
            "baxis": {
             "endlinecolor": "#2a3f5f",
             "gridcolor": "white",
             "linecolor": "white",
             "minorgridcolor": "white",
             "startlinecolor": "#2a3f5f"
            },
            "type": "carpet"
           }
          ],
          "choropleth": [
           {
            "colorbar": {
             "outlinewidth": 0,
             "ticks": ""
            },
            "type": "choropleth"
           }
          ],
          "contour": [
           {
            "colorbar": {
             "outlinewidth": 0,
             "ticks": ""
            },
            "colorscale": [
             [
              0,
              "#0d0887"
             ],
             [
              0.1111111111111111,
              "#46039f"
             ],
             [
              0.2222222222222222,
              "#7201a8"
             ],
             [
              0.3333333333333333,
              "#9c179e"
             ],
             [
              0.4444444444444444,
              "#bd3786"
             ],
             [
              0.5555555555555556,
              "#d8576b"
             ],
             [
              0.6666666666666666,
              "#ed7953"
             ],
             [
              0.7777777777777778,
              "#fb9f3a"
             ],
             [
              0.8888888888888888,
              "#fdca26"
             ],
             [
              1,
              "#f0f921"
             ]
            ],
            "type": "contour"
           }
          ],
          "contourcarpet": [
           {
            "colorbar": {
             "outlinewidth": 0,
             "ticks": ""
            },
            "type": "contourcarpet"
           }
          ],
          "heatmap": [
           {
            "colorbar": {
             "outlinewidth": 0,
             "ticks": ""
            },
            "colorscale": [
             [
              0,
              "#0d0887"
             ],
             [
              0.1111111111111111,
              "#46039f"
             ],
             [
              0.2222222222222222,
              "#7201a8"
             ],
             [
              0.3333333333333333,
              "#9c179e"
             ],
             [
              0.4444444444444444,
              "#bd3786"
             ],
             [
              0.5555555555555556,
              "#d8576b"
             ],
             [
              0.6666666666666666,
              "#ed7953"
             ],
             [
              0.7777777777777778,
              "#fb9f3a"
             ],
             [
              0.8888888888888888,
              "#fdca26"
             ],
             [
              1,
              "#f0f921"
             ]
            ],
            "type": "heatmap"
           }
          ],
          "heatmapgl": [
           {
            "colorbar": {
             "outlinewidth": 0,
             "ticks": ""
            },
            "colorscale": [
             [
              0,
              "#0d0887"
             ],
             [
              0.1111111111111111,
              "#46039f"
             ],
             [
              0.2222222222222222,
              "#7201a8"
             ],
             [
              0.3333333333333333,
              "#9c179e"
             ],
             [
              0.4444444444444444,
              "#bd3786"
             ],
             [
              0.5555555555555556,
              "#d8576b"
             ],
             [
              0.6666666666666666,
              "#ed7953"
             ],
             [
              0.7777777777777778,
              "#fb9f3a"
             ],
             [
              0.8888888888888888,
              "#fdca26"
             ],
             [
              1,
              "#f0f921"
             ]
            ],
            "type": "heatmapgl"
           }
          ],
          "histogram": [
           {
            "marker": {
             "pattern": {
              "fillmode": "overlay",
              "size": 10,
              "solidity": 0.2
             }
            },
            "type": "histogram"
           }
          ],
          "histogram2d": [
           {
            "colorbar": {
             "outlinewidth": 0,
             "ticks": ""
            },
            "colorscale": [
             [
              0,
              "#0d0887"
             ],
             [
              0.1111111111111111,
              "#46039f"
             ],
             [
              0.2222222222222222,
              "#7201a8"
             ],
             [
              0.3333333333333333,
              "#9c179e"
             ],
             [
              0.4444444444444444,
              "#bd3786"
             ],
             [
              0.5555555555555556,
              "#d8576b"
             ],
             [
              0.6666666666666666,
              "#ed7953"
             ],
             [
              0.7777777777777778,
              "#fb9f3a"
             ],
             [
              0.8888888888888888,
              "#fdca26"
             ],
             [
              1,
              "#f0f921"
             ]
            ],
            "type": "histogram2d"
           }
          ],
          "histogram2dcontour": [
           {
            "colorbar": {
             "outlinewidth": 0,
             "ticks": ""
            },
            "colorscale": [
             [
              0,
              "#0d0887"
             ],
             [
              0.1111111111111111,
              "#46039f"
             ],
             [
              0.2222222222222222,
              "#7201a8"
             ],
             [
              0.3333333333333333,
              "#9c179e"
             ],
             [
              0.4444444444444444,
              "#bd3786"
             ],
             [
              0.5555555555555556,
              "#d8576b"
             ],
             [
              0.6666666666666666,
              "#ed7953"
             ],
             [
              0.7777777777777778,
              "#fb9f3a"
             ],
             [
              0.8888888888888888,
              "#fdca26"
             ],
             [
              1,
              "#f0f921"
             ]
            ],
            "type": "histogram2dcontour"
           }
          ],
          "mesh3d": [
           {
            "colorbar": {
             "outlinewidth": 0,
             "ticks": ""
            },
            "type": "mesh3d"
           }
          ],
          "parcoords": [
           {
            "line": {
             "colorbar": {
              "outlinewidth": 0,
              "ticks": ""
             }
            },
            "type": "parcoords"
           }
          ],
          "pie": [
           {
            "automargin": true,
            "type": "pie"
           }
          ],
          "scatter": [
           {
            "fillpattern": {
             "fillmode": "overlay",
             "size": 10,
             "solidity": 0.2
            },
            "type": "scatter"
           }
          ],
          "scatter3d": [
           {
            "line": {
             "colorbar": {
              "outlinewidth": 0,
              "ticks": ""
             }
            },
            "marker": {
             "colorbar": {
              "outlinewidth": 0,
              "ticks": ""
             }
            },
            "type": "scatter3d"
           }
          ],
          "scattercarpet": [
           {
            "marker": {
             "colorbar": {
              "outlinewidth": 0,
              "ticks": ""
             }
            },
            "type": "scattercarpet"
           }
          ],
          "scattergeo": [
           {
            "marker": {
             "colorbar": {
              "outlinewidth": 0,
              "ticks": ""
             }
            },
            "type": "scattergeo"
           }
          ],
          "scattergl": [
           {
            "marker": {
             "colorbar": {
              "outlinewidth": 0,
              "ticks": ""
             }
            },
            "type": "scattergl"
           }
          ],
          "scattermapbox": [
           {
            "marker": {
             "colorbar": {
              "outlinewidth": 0,
              "ticks": ""
             }
            },
            "type": "scattermapbox"
           }
          ],
          "scatterpolar": [
           {
            "marker": {
             "colorbar": {
              "outlinewidth": 0,
              "ticks": ""
             }
            },
            "type": "scatterpolar"
           }
          ],
          "scatterpolargl": [
           {
            "marker": {
             "colorbar": {
              "outlinewidth": 0,
              "ticks": ""
             }
            },
            "type": "scatterpolargl"
           }
          ],
          "scatterternary": [
           {
            "marker": {
             "colorbar": {
              "outlinewidth": 0,
              "ticks": ""
             }
            },
            "type": "scatterternary"
           }
          ],
          "surface": [
           {
            "colorbar": {
             "outlinewidth": 0,
             "ticks": ""
            },
            "colorscale": [
             [
              0,
              "#0d0887"
             ],
             [
              0.1111111111111111,
              "#46039f"
             ],
             [
              0.2222222222222222,
              "#7201a8"
             ],
             [
              0.3333333333333333,
              "#9c179e"
             ],
             [
              0.4444444444444444,
              "#bd3786"
             ],
             [
              0.5555555555555556,
              "#d8576b"
             ],
             [
              0.6666666666666666,
              "#ed7953"
             ],
             [
              0.7777777777777778,
              "#fb9f3a"
             ],
             [
              0.8888888888888888,
              "#fdca26"
             ],
             [
              1,
              "#f0f921"
             ]
            ],
            "type": "surface"
           }
          ],
          "table": [
           {
            "cells": {
             "fill": {
              "color": "#EBF0F8"
             },
             "line": {
              "color": "white"
             }
            },
            "header": {
             "fill": {
              "color": "#C8D4E3"
             },
             "line": {
              "color": "white"
             }
            },
            "type": "table"
           }
          ]
         },
         "layout": {
          "annotationdefaults": {
           "arrowcolor": "#2a3f5f",
           "arrowhead": 0,
           "arrowwidth": 1
          },
          "autotypenumbers": "strict",
          "coloraxis": {
           "colorbar": {
            "outlinewidth": 0,
            "ticks": ""
           }
          },
          "colorscale": {
           "diverging": [
            [
             0,
             "#8e0152"
            ],
            [
             0.1,
             "#c51b7d"
            ],
            [
             0.2,
             "#de77ae"
            ],
            [
             0.3,
             "#f1b6da"
            ],
            [
             0.4,
             "#fde0ef"
            ],
            [
             0.5,
             "#f7f7f7"
            ],
            [
             0.6,
             "#e6f5d0"
            ],
            [
             0.7,
             "#b8e186"
            ],
            [
             0.8,
             "#7fbc41"
            ],
            [
             0.9,
             "#4d9221"
            ],
            [
             1,
             "#276419"
            ]
           ],
           "sequential": [
            [
             0,
             "#0d0887"
            ],
            [
             0.1111111111111111,
             "#46039f"
            ],
            [
             0.2222222222222222,
             "#7201a8"
            ],
            [
             0.3333333333333333,
             "#9c179e"
            ],
            [
             0.4444444444444444,
             "#bd3786"
            ],
            [
             0.5555555555555556,
             "#d8576b"
            ],
            [
             0.6666666666666666,
             "#ed7953"
            ],
            [
             0.7777777777777778,
             "#fb9f3a"
            ],
            [
             0.8888888888888888,
             "#fdca26"
            ],
            [
             1,
             "#f0f921"
            ]
           ],
           "sequentialminus": [
            [
             0,
             "#0d0887"
            ],
            [
             0.1111111111111111,
             "#46039f"
            ],
            [
             0.2222222222222222,
             "#7201a8"
            ],
            [
             0.3333333333333333,
             "#9c179e"
            ],
            [
             0.4444444444444444,
             "#bd3786"
            ],
            [
             0.5555555555555556,
             "#d8576b"
            ],
            [
             0.6666666666666666,
             "#ed7953"
            ],
            [
             0.7777777777777778,
             "#fb9f3a"
            ],
            [
             0.8888888888888888,
             "#fdca26"
            ],
            [
             1,
             "#f0f921"
            ]
           ]
          },
          "colorway": [
           "#636efa",
           "#EF553B",
           "#00cc96",
           "#ab63fa",
           "#FFA15A",
           "#19d3f3",
           "#FF6692",
           "#B6E880",
           "#FF97FF",
           "#FECB52"
          ],
          "font": {
           "color": "#2a3f5f"
          },
          "geo": {
           "bgcolor": "white",
           "lakecolor": "white",
           "landcolor": "#E5ECF6",
           "showlakes": true,
           "showland": true,
           "subunitcolor": "white"
          },
          "hoverlabel": {
           "align": "left"
          },
          "hovermode": "closest",
          "mapbox": {
           "style": "light"
          },
          "paper_bgcolor": "white",
          "plot_bgcolor": "#E5ECF6",
          "polar": {
           "angularaxis": {
            "gridcolor": "white",
            "linecolor": "white",
            "ticks": ""
           },
           "bgcolor": "#E5ECF6",
           "radialaxis": {
            "gridcolor": "white",
            "linecolor": "white",
            "ticks": ""
           }
          },
          "scene": {
           "xaxis": {
            "backgroundcolor": "#E5ECF6",
            "gridcolor": "white",
            "gridwidth": 2,
            "linecolor": "white",
            "showbackground": true,
            "ticks": "",
            "zerolinecolor": "white"
           },
           "yaxis": {
            "backgroundcolor": "#E5ECF6",
            "gridcolor": "white",
            "gridwidth": 2,
            "linecolor": "white",
            "showbackground": true,
            "ticks": "",
            "zerolinecolor": "white"
           },
           "zaxis": {
            "backgroundcolor": "#E5ECF6",
            "gridcolor": "white",
            "gridwidth": 2,
            "linecolor": "white",
            "showbackground": true,
            "ticks": "",
            "zerolinecolor": "white"
           }
          },
          "shapedefaults": {
           "line": {
            "color": "#2a3f5f"
           }
          },
          "ternary": {
           "aaxis": {
            "gridcolor": "white",
            "linecolor": "white",
            "ticks": ""
           },
           "baxis": {
            "gridcolor": "white",
            "linecolor": "white",
            "ticks": ""
           },
           "bgcolor": "#E5ECF6",
           "caxis": {
            "gridcolor": "white",
            "linecolor": "white",
            "ticks": ""
           }
          },
          "title": {
           "x": 0.05
          },
          "xaxis": {
           "automargin": true,
           "gridcolor": "white",
           "linecolor": "white",
           "ticks": "",
           "title": {
            "standoff": 15
           },
           "zerolinecolor": "white",
           "zerolinewidth": 2
          },
          "yaxis": {
           "automargin": true,
           "gridcolor": "white",
           "linecolor": "white",
           "ticks": "",
           "title": {
            "standoff": 15
           },
           "zerolinecolor": "white",
           "zerolinewidth": 2
          }
         }
        },
        "xaxis": {
         "anchor": "y",
         "domain": [
          0,
          1
         ],
         "title": {
          "text": "x"
         }
        },
        "yaxis": {
         "anchor": "x",
         "domain": [
          0,
          1
         ],
         "title": {
          "text": "index"
         }
        }
       }
      }
     },
     "metadata": {},
     "output_type": "display_data"
    }
   ],
   "source": [
    "# pca, či tsne pro redukci dimenze\n",
    "# Aplikace metody TSNE\n",
    "\n",
    "#tsne = TSNE(n_components=2, perplexity=5, random_state=1).fit_transform(vec)\n",
    "tsne = TSNE(n_components=2, perplexity=5).fit_transform(vec)\n",
    "\n",
    "plot = px.scatter(tsne[:, 0], tsne[:, 1],\n",
    "    text=keys, color=['word: ' + str(x) for x in y])\n",
    "plot.update_coloraxes(showscale=False)\n",
    "plot.layout.template = 'plotly'\n",
    "plot"
   ]
  },
  {
   "cell_type": "code",
   "execution_count": 55,
   "metadata": {},
   "outputs": [],
   "source": [
    "def draw_arrow(arr_start, arr_end):\n",
    "    dx = arr_end[0] - arr_start[0]\n",
    "    dy = arr_end[1] - arr_start[1]\n",
    "    plt.arrow(arr_start[0], arr_start[1], dx, dy, \n",
    "        head_width=1, head_length=1, \n",
    "        length_includes_head=True, color='black')"
   ]
  },
  {
   "cell_type": "code",
   "execution_count": null,
   "metadata": {},
   "outputs": [],
   "source": [
    "keys = [[\"king\",\"man\"],[\"queen\",\"woman\"]]\n",
    "vectors[word2idx[key]]\n",
    "\n",
    "for key1, key2 in keys:\n",
    "    drawArrow(vectors[word2idx[key1]], vectors[word2idx[key2]])\n",
    "plt.ylabel('some numbers')\n",
    "plt.show()"
   ]
  }
 ],
 "metadata": {
  "kernelspec": {
   "display_name": "Python 3.10.6 64-bit",
   "language": "python",
   "name": "python3"
  },
  "language_info": {
   "codemirror_mode": {
    "name": "ipython",
    "version": 3
   },
   "file_extension": ".py",
   "mimetype": "text/x-python",
   "name": "python",
   "nbconvert_exporter": "python",
   "pygments_lexer": "ipython3",
   "version": "3.10.6"
  },
  "vscode": {
   "interpreter": {
    "hash": "916dbcbb3f70747c44a77c7bcd40155683ae19c65e1c03b4aa3499c5328201f1"
   }
  }
 },
 "nbformat": 4,
 "nbformat_minor": 4
}
